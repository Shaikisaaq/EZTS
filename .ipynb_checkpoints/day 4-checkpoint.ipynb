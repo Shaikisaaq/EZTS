{
 "cells": [
  {
   "cell_type": "code",
   "execution_count": 12,
   "id": "8c8b1883",
   "metadata": {},
   "outputs": [
    {
     "name": "stdout",
     "output_type": "stream",
     "text": [
      "enter the number of students1\n",
      "enter the name of student :dfgh\n",
      "enter the usn of the sudent: 34r\n",
      "enter the marks of the student saparated by space:12 12 12 13 13 13\n",
      "0\n",
      "name:dfgh \n",
      "g usn:34r\n",
      "sub 1-12\n",
      "sub 2-12\n",
      "sub 3-12\n",
      "sub 4-13\n",
      "sub 5-13\n",
      "sub 6-13\n",
      "the average of marks :12.5 %\n",
      "\n"
     ]
    }
   ],
   "source": [
    "import statistics\n",
    "class student:\n",
    "    def __init__(self,name,usn,marks):\n",
    "        self.name= name\n",
    "        self.usn = usn\n",
    "        self.marks= marks\n",
    "    def display(self):\n",
    "        print(f\"name:{self.name} \\ng usn:{self.usn}\")\n",
    "        for i,j in enumerate(self.marks):\n",
    "            print(f'sub {i+1}-{j}') \n",
    "        self.avg()\n",
    "    def avg(self):\n",
    "        print(f'the average of marks :{statistics.mean(self.marks)} %')\n",
    "    \n",
    "n=int(input('enter the number of students'))\n",
    "s=[]\n",
    "for i in range(n):\n",
    "    name= input('enter the name of student :')\n",
    "    usn = input('enter the usn of the sudent: ')\n",
    "    marks= list(map(int,input('enter the marks of the student saparated by space:').split()))\n",
    "    print(i)\n",
    "    s.append(student(name,usn,marks))\n",
    "    \n",
    "for i in range(n):\n",
    "    s[i].display()\n",
    "    print()"
   ]
  },
  {
   "cell_type": "code",
   "execution_count": 10,
   "id": "e5ad31ff",
   "metadata": {},
   "outputs": [
    {
     "name": "stdout",
     "output_type": "stream",
     "text": [
      "enter your namefd\n",
      "enter your usn5432\n",
      "5 sub marks45 45 45 45 45\n",
      "name: fd\n",
      "usn: 5432\n",
      "45\n",
      "45\n",
      "45\n",
      "45\n",
      "45\n",
      "45.0\n",
      "invalid chhoice\n"
     ]
    }
   ],
   "source": [
    "class Student:\n",
    "    def __init__(self,name,usn,marks):\n",
    "        self.nm=name\n",
    "        self.usn=usn\n",
    "        self.marks=marks\n",
    "        self.percentage=None\n",
    "        self.grade=None\n",
    "    def details(self):\n",
    "        print(\"name:\",self.nm)\n",
    "        print(\"usn:\",self.usn)\n",
    "        for i in self.marks:\n",
    "            print(i)\n",
    "        \n",
    "    def per(self):\n",
    "        self.percentage=0\n",
    "        for i in self.marks:\n",
    "            self.percentage=self.percentage+i\n",
    "        self.percentage = self.percentage/5\n",
    "        print(self.percentage)   \n",
    "            \n",
    "    def Grade(self):\n",
    "        if self.percentage>90:\n",
    "            print(\" Grade A\")   \n",
    "        elif (self.percentage>75) and (self.percentage <90):\n",
    "            print(\"Grade B\")\n",
    "        elif(self.percentage>60) and (self.percentage <75):\n",
    "            print(\"Grade C\")\n",
    "        else:\n",
    "            print(\"invalid chhoice\")\n",
    "a=input(\"enter your name\")\n",
    "b=int(input(\"enter your usn\"))\n",
    "c = list(map(int,input(\"5 sub marks\").split(\" \")))\n",
    "obj1=Student(a,b,c)\n",
    "obj1.details()\n",
    "obj1.per()\n",
    "obj1.Grade()"
   ]
  },
  {
   "cell_type": "code",
   "execution_count": 26,
   "id": "e98f5e0f",
   "metadata": {},
   "outputs": [
    {
     "name": "stdout",
     "output_type": "stream",
     "text": [
      "['1', '2', '3', '4', '5', '6', '7', '8', '9']\n",
      "['2', '3', '4', '5', '6', '7', '8', '9']\n",
      "['3', '4', '5', '6', '7', '8', '9']\n",
      "['4', '5', '6', '7', '8', '9']\n",
      "['5', '6', '7', '8', '9']\n",
      "['6', '7', '8', '9']\n",
      "['7', '8', '9']\n",
      "['8', '9']\n",
      "['9']\n",
      "[]\n",
      "abcdefghijklmnopqrstuvwxyz\n"
     ]
    }
   ],
   "source": [
    "def missingCharacters(s):\n",
    "    # Write your code here\n",
    "    l=\"a,b,c,d,e,f,g,h,i,j,k,l,m,n,o,p,q,r,s,t,u,v,w,x,y,z\".split(',')\n",
    "    n=\"1,2,3,4,5,6,7,8,9,0\".split(',')\n",
    "    \n",
    "    for i in s:\n",
    "        s.split()\n",
    "        if i.isalpha():\n",
    "            if i not in l:\n",
    "                continue\n",
    "            l.remove(i)\n",
    "        if i.isnumeric():\n",
    "            n.remove(i)\n",
    "            print(n)\n",
    "    l=\"\".join(l) \n",
    "    n=\"\".join(n)\n",
    "    return n+l\n",
    "\n",
    "s=\"0123456789\"\n",
    "print(missingCharacters(s))"
   ]
  },
  {
   "cell_type": "code",
   "execution_count": 19,
   "id": "fb760bf5",
   "metadata": {},
   "outputs": [
    {
     "name": "stdout",
     "output_type": "stream",
     "text": [
      "abcdefghijklmnopqrstuvwxyz\n"
     ]
    }
   ],
   "source": [
    "l=['a', 'b', 'c', 'd', 'e', 'f', 'g', 'h', 'i', 'j', 'k', 'l', 'm', 'n', 'o', 'p', 'q', 'r', 's', 't', 'u', 'v', 'w', 'x', 'y', 'z']\n",
    "print(''.join(l))"
   ]
  },
  {
   "cell_type": "code",
   "execution_count": 23,
   "id": "a4fc55f7",
   "metadata": {},
   "outputs": [
    {
     "name": "stdout",
     "output_type": "stream",
     "text": [
      "['abcdefghijklmnopqrstuvwxyz']\n"
     ]
    }
   ],
   "source": []
  },
  {
   "cell_type": "code",
   "execution_count": 3,
   "id": "1b25ef9a",
   "metadata": {},
   "outputs": [
    {
     "name": "stdout",
     "output_type": "stream",
     "text": [
      "2\n",
      "h\n",
      "2\n",
      "s\n",
      "3\n",
      "record= [['h', 2], ['s', 3]]\n"
     ]
    }
   ],
   "source": [
    "ls=[]\n",
    "for i in range(int(input())):\n",
    "    name=input()\n",
    "    score = int(input())\n",
    "    ls.append([name,score])\n",
    "print(f'record= {ls}')"
   ]
  },
  {
   "cell_type": "code",
   "execution_count": null,
   "id": "6c9d998f",
   "metadata": {},
   "outputs": [],
   "source": []
  },
  {
   "cell_type": "markdown",
   "id": "ae218bde",
   "metadata": {},
   "source": [
    "## "
   ]
  }
 ],
 "metadata": {
  "kernelspec": {
   "display_name": "Python 3 (ipykernel)",
   "language": "python",
   "name": "python3"
  },
  "language_info": {
   "codemirror_mode": {
    "name": "ipython",
    "version": 3
   },
   "file_extension": ".py",
   "mimetype": "text/x-python",
   "name": "python",
   "nbconvert_exporter": "python",
   "pygments_lexer": "ipython3",
   "version": "3.11.5"
  },
  "varInspector": {
   "cols": {
    "lenName": 16,
    "lenType": 16,
    "lenVar": 40
   },
   "kernels_config": {
    "python": {
     "delete_cmd_postfix": "",
     "delete_cmd_prefix": "del ",
     "library": "var_list.py",
     "varRefreshCmd": "print(var_dic_list())"
    },
    "r": {
     "delete_cmd_postfix": ") ",
     "delete_cmd_prefix": "rm(",
     "library": "var_list.r",
     "varRefreshCmd": "cat(var_dic_list()) "
    }
   },
   "types_to_exclude": [
    "module",
    "function",
    "builtin_function_or_method",
    "instance",
    "_Feature"
   ],
   "window_display": false
  }
 },
 "nbformat": 4,
 "nbformat_minor": 5
}
