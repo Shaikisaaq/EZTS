{
 "cells": [
  {
   "cell_type": "code",
   "execution_count": 6,
   "id": "9831834e",
   "metadata": {},
   "outputs": [
    {
     "name": "stdout",
     "output_type": "stream",
     "text": [
      "1 2 3 4 5 65 _ _ 1 2 1 3\n",
      "6\n"
     ]
    }
   ],
   "source": [
    "def removeDuplicates(nums) -> int:\n",
    "        nums = set(nums)\n",
    "        nums = list(map(str,nums))\n",
    "        c=0\n",
    "        for i in nums:\n",
    "            if i.isdigit():\n",
    "                c+=1\n",
    "        \n",
    "        return c\n",
    "ls=list(map(str,input().split()))\n",
    "print(removeDuplicates(ls))"
   ]
  },
  {
   "cell_type": "code",
   "execution_count": null,
   "id": "17806d47",
   "metadata": {},
   "outputs": [],
   "source": []
  }
 ],
 "metadata": {
  "kernelspec": {
   "display_name": "Python 3 (ipykernel)",
   "language": "python",
   "name": "python3"
  },
  "language_info": {
   "codemirror_mode": {
    "name": "ipython",
    "version": 3
   },
   "file_extension": ".py",
   "mimetype": "text/x-python",
   "name": "python",
   "nbconvert_exporter": "python",
   "pygments_lexer": "ipython3",
   "version": "3.11.5"
  },
  "varInspector": {
   "cols": {
    "lenName": 16,
    "lenType": 16,
    "lenVar": 40
   },
   "kernels_config": {
    "python": {
     "delete_cmd_postfix": "",
     "delete_cmd_prefix": "del ",
     "library": "var_list.py",
     "varRefreshCmd": "print(var_dic_list())"
    },
    "r": {
     "delete_cmd_postfix": ") ",
     "delete_cmd_prefix": "rm(",
     "library": "var_list.r",
     "varRefreshCmd": "cat(var_dic_list()) "
    }
   },
   "types_to_exclude": [
    "module",
    "function",
    "builtin_function_or_method",
    "instance",
    "_Feature"
   ],
   "window_display": false
  }
 },
 "nbformat": 4,
 "nbformat_minor": 5
}
