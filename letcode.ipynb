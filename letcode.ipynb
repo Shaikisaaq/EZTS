{
 "cells": [
  {
   "cell_type": "code",
   "execution_count": 6,
   "id": "9831834e",
   "metadata": {},
   "outputs": [
    {
     "name": "stdout",
     "output_type": "stream",
     "text": [
      "1 2 3 4 5 65 _ _ 1 2 1 3\n",
      "6\n"
     ]
    }
   ],
   "source": [
    "def removeDuplicates(nums) -> int:\n",
    "        nums = set(nums)\n",
    "        nums = list(map(str,nums))\n",
    "        c=0\n",
    "        for i in nums:\n",
    "            if i.isdigit():\n",
    "                c+=1\n",
    "        \n",
    "        return c\n",
    "ls=list(map(str,input().split()))\n",
    "print(removeDuplicates(ls))"
   ]
  },
  {
   "cell_type": "code",
   "execution_count": 3,
   "id": "17806d47",
   "metadata": {},
   "outputs": [],
   "source": [
    "s=\"   fly me   to   the moon  \".split(\" \")"
   ]
  },
  {
   "cell_type": "code",
   "execution_count": 13,
   "id": "5efea631",
   "metadata": {},
   "outputs": [
    {
     "name": "stdout",
     "output_type": "stream",
     "text": [
      "\n",
      "\n",
      "moon\n",
      "4\n"
     ]
    }
   ],
   "source": [
    "i=len(s)-1\n",
    "while True:\n",
    "    print(s[i])\n",
    "    if len(s[i]) == 0:\n",
    "        i-=1\n",
    "        continue\n",
    "    print(len(s[i]))\n",
    "    break\n",
    "            "
   ]
  },
  {
   "cell_type": "code",
   "execution_count": 15,
   "id": "80e29f6b",
   "metadata": {},
   "outputs": [
    {
     "name": "stdout",
     "output_type": "stream",
     "text": [
      "-1\n"
     ]
    }
   ],
   "source": [
    "# initializing a string\n",
    "word = 'find me if you can'\n",
    "# using string find() method\n",
    "print(word.find('mfe'))"
   ]
  },
  {
   "cell_type": "code",
   "execution_count": 4,
   "id": "6edb34b8",
   "metadata": {},
   "outputs": [
    {
     "data": {
      "text/plain": [
       "['l', 'e', 'o', 't', 'c', 'e', 'd', 'e']"
      ]
     },
     "execution_count": 4,
     "metadata": {},
     "output_type": "execute_result"
    }
   ],
   "source": [
    "class Solution:\n",
    "    def reverseVowels(self, s: str) -> str:\n",
    "        s=[i for i in s]\n",
    "        i,j=0,len(s)-1\n",
    "        v='aeiou'\n",
    "        while i<j:\n",
    "            if s[i] in v and s[j] in v:\n",
    "                s[i],s[j] = s[j],s[i]\n",
    "                i+=1\n",
    "                j-=1\n",
    "            if s[i] in v and s[j] not in v or s[j] not in v:\n",
    "                j-=1\n",
    "            if s[i] not in v and s[j] in v or s[i] not in v:\n",
    "                i+=1\n",
    "        return s\n",
    "s= Solution()\n",
    "s.reverseVowels(\"leetcode\")"
   ]
  },
  {
   "cell_type": "code",
   "execution_count": 6,
   "id": "8db5b92f",
   "metadata": {},
   "outputs": [
    {
     "name": "stdout",
     "output_type": "stream",
     "text": [
      "bacdefg\n"
     ]
    }
   ],
   "source": [
    "s = \"abcdefg\"\n",
    "k=2\n",
    "print(((s[:k])[::-1])+s[k:])"
   ]
  },
  {
   "cell_type": "code",
   "execution_count": null,
   "id": "2adf3f38",
   "metadata": {},
   "outputs": [],
   "source": []
  }
 ],
 "metadata": {
  "kernelspec": {
   "display_name": "Python 3 (ipykernel)",
   "language": "python",
   "name": "python3"
  },
  "language_info": {
   "codemirror_mode": {
    "name": "ipython",
    "version": 3
   },
   "file_extension": ".py",
   "mimetype": "text/x-python",
   "name": "python",
   "nbconvert_exporter": "python",
   "pygments_lexer": "ipython3",
   "version": "3.11.5"
  },
  "varInspector": {
   "cols": {
    "lenName": 16,
    "lenType": 16,
    "lenVar": 40
   },
   "kernels_config": {
    "python": {
     "delete_cmd_postfix": "",
     "delete_cmd_prefix": "del ",
     "library": "var_list.py",
     "varRefreshCmd": "print(var_dic_list())"
    },
    "r": {
     "delete_cmd_postfix": ") ",
     "delete_cmd_prefix": "rm(",
     "library": "var_list.r",
     "varRefreshCmd": "cat(var_dic_list()) "
    }
   },
   "types_to_exclude": [
    "module",
    "function",
    "builtin_function_or_method",
    "instance",
    "_Feature"
   ],
   "window_display": false
  }
 },
 "nbformat": 4,
 "nbformat_minor": 5
}
