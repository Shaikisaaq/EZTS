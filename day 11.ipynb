{
 "cells": [
  {
   "cell_type": "markdown",
   "id": "dec7f747",
   "metadata": {},
   "source": [
    "##  AVL TREE\n"
   ]
  },
  {
   "cell_type": "code",
   "execution_count": 7,
   "id": "78998e49",
   "metadata": {},
   "outputs": [
    {
     "ename": "TypeError",
     "evalue": "node() takes no arguments",
     "output_type": "error",
     "traceback": [
      "\u001b[1;31m---------------------------------------------------------------------------\u001b[0m",
      "\u001b[1;31mTypeError\u001b[0m                                 Traceback (most recent call last)",
      "Cell \u001b[1;32mIn[7], line 80\u001b[0m\n\u001b[0;32m     78\u001b[0m root\u001b[38;5;241m=\u001b[39m\u001b[38;5;28;01mNone\u001b[39;00m\n\u001b[0;32m     79\u001b[0m \u001b[38;5;28;01mfor\u001b[39;00m i \u001b[38;5;129;01min\u001b[39;00m vl:\n\u001b[1;32m---> 80\u001b[0m     root\u001b[38;5;241m=\u001b[39minsert(root,i)\n\u001b[0;32m     82\u001b[0m inorder(root)\n",
      "Cell \u001b[1;32mIn[7], line 12\u001b[0m, in \u001b[0;36minsert\u001b[1;34m(root, key)\u001b[0m\n\u001b[0;32m     10\u001b[0m \u001b[38;5;28;01mdef\u001b[39;00m \u001b[38;5;21minsert\u001b[39m(root,key):\n\u001b[0;32m     11\u001b[0m     \u001b[38;5;28;01mif\u001b[39;00m \u001b[38;5;129;01mnot\u001b[39;00m root:\n\u001b[1;32m---> 12\u001b[0m         \u001b[38;5;28;01mreturn\u001b[39;00m node(key)\n\u001b[0;32m     13\u001b[0m     \u001b[38;5;28;01mif\u001b[39;00m key\u001b[38;5;241m<\u001b[39mroot\u001b[38;5;241m.\u001b[39mval:\n\u001b[0;32m     14\u001b[0m         root\u001b[38;5;241m.\u001b[39mleft\u001b[38;5;241m=\u001b[39minsert(root\u001b[38;5;241m.\u001b[39mleft,key)\n",
      "\u001b[1;31mTypeError\u001b[0m: node() takes no arguments"
     ]
    }
   ],
   "source": [
    "#AVL TREE\n",
    "class node:\n",
    "    def __init___(self,data):\n",
    "        self.val=data \n",
    "        self.left=None\n",
    "        self.right=None\n",
    "        self.height=1\n",
    "\n",
    "\n",
    "def insert(root,key):\n",
    "    if not root:\n",
    "        return node(key)\n",
    "    if key<root.val:\n",
    "        root.left=insert(root.left,key)\n",
    "    else:\n",
    "        root.right=insert(root.right,key)\n",
    "   \n",
    "    root.height=1+max(ght(root.left),ght(root))\n",
    "    bf=getbf(root)\n",
    "#rr rotation\n",
    "    if bf>1 and key<root.left.val:\n",
    "        return rightRotate(root)\n",
    "    #rl rotation\n",
    "    if bf>1 and key<root.left.val:\n",
    "        root.left=leftRotate(root.left)\n",
    "        return rightRotate(root)\n",
    "    #ll\n",
    "    if bf<-1 and key>root.right.val:\n",
    "        return leftRotation(root)\n",
    " \n",
    "    #lr\n",
    "    if bf<-1 and key>root.right.val:\n",
    "        root.right=rightRotate(root.right)\n",
    "        return leftRotation(root)\n",
    "    return root\n",
    "\n",
    "def ght(root):\n",
    "    if not root:\n",
    "        return 0\n",
    "    return root.height\n",
    "\n",
    "def getbf(root):\n",
    "    if not root:\n",
    "        return 0\n",
    "    return ght(root.left)-ght(root.right)\n",
    "\n",
    "def leftRotate(A):\n",
    "    B=A.right\n",
    "    temp=B.left\n",
    "\n",
    "    B.left=A\n",
    "    A.right=temp\n",
    "\n",
    "    A.height=1+max(ght(A.left),ght(A.right))\n",
    "    B.height=1+max(ght(B.left),ght(B.right))\n",
    "    return B\n",
    "def rightRotate(A):\n",
    "    B=A.left\n",
    "    temp=B.right\n",
    "\n",
    "    B.right=A\n",
    "    A.left=temp\n",
    "\n",
    "    A.height=1+max(ght(A.left),ght(A.right))\n",
    "    B.height=1+max(ght(B.left),ght(B.right))\n",
    "    return B\n",
    "def inorder(root):\n",
    "    if  not root:\n",
    "        return\n",
    "    inorder(root.left)\n",
    "    print(root.val)\n",
    "    inorder(root.right)\n",
    "\n",
    "\n",
    "\n",
    "if __name__ == \"__main__\":\n",
    "    vl=[19,99,75,7,21,34,38,27,134,100,29,0,12,17,143]\n",
    "    root=None\n",
    "    for i in vl:\n",
    "        root=insert(root,i)\n",
    "\n",
    "    inorder(root)"
   ]
  },
  {
   "cell_type": "code",
   "execution_count": 3,
   "id": "05d7a8b6",
   "metadata": {},
   "outputs": [
    {
     "name": "stdout",
     "output_type": "stream",
     "text": [
      "0\n",
      "7\n",
      "12\n",
      "17\n",
      "19\n",
      "21\n",
      "27\n",
      "29\n",
      "34\n",
      "38\n",
      "75\n",
      "99\n",
      "100\n",
      "134\n",
      "143\n"
     ]
    }
   ],
   "source": [
    "class node:\n",
    "    def __class__init__(self,data):\n",
    "        self.value=data\n",
    "        self.left=None\n",
    "        self.right=None\n",
    "        self.height=1\n",
    "\n",
    "\n",
    "def inorder(root):\n",
    "    if root==None:\n",
    "        return \n",
    "    inorder(root.left)\n",
    "    print(root.value)\n",
    "    inorder(root.right)\n",
    "\n",
    "def ght(root):\n",
    "    if not root:\n",
    "        return 0\n",
    "    else:\n",
    "        return ght(root.left)-ght(root.right)\n",
    "\n",
    "def getbf(root):\n",
    "    if not root:\n",
    "        return 0\n",
    "    return ght(root.left)-ght(root.right)\n",
    "        \n",
    "\n",
    "def insert(root,me):\n",
    "    if not root:\n",
    "        return node(me)\n",
    "    if me<root.value:\n",
    "        root.left=insert(root.left,me)\n",
    "    else:\n",
    "        root.right=insert(root.right,me)\n",
    "    root.height=1+max(ght(root.left),ght(root.right))\n",
    "    bf=getbf(root)\n",
    "    if bf>1 and me<root.left.value:#rr rotation\n",
    "        return rightRotate(root)\n",
    "    if bf>1 and me>root.left.value:\n",
    "        root.left=leftRotate(root)\n",
    "        return rightRotate(root)\n",
    "    if bf<-1 and me>root.right.value:#ll\n",
    "        return leftRotate(root)\n",
    "    if bf<-1 and me<root.left.value:#rl\n",
    "        root.right=rightRotate(root)\n",
    "        return leftRotate(root)\n",
    "    return root\n",
    "\n",
    "\n",
    "def leftRotate(A):\n",
    "    b=a.right\n",
    "    temp=b.left\n",
    "    b.left=a\n",
    "    a.right=temp\n",
    "    a.height=1+max(ght(a.left)-ght(a.right))\n",
    "    b.height=1+max(ght(b.left)-gth(b.right))\n",
    "    return b\n",
    "\n",
    "\n",
    "def rightRotate(A):\n",
    "    b=a.left\n",
    "    temp=b.right\n",
    "    b.right=a\n",
    "    a.left=temp\n",
    "    a.height=1+max(ght(a.left)-ght(a.right))\n",
    "    b.height=1+max(ght(b.left)-gth(b.right))\n",
    "    return b\n",
    "    \n",
    "\n",
    "\n",
    "if __name__=='__main__':\n",
    "    root=None\n",
    "    vl=[19,99,75,7,21,34,38,27,134,100,29,0,12,17,143]\n",
    "    for i in vl:\n",
    "        root=insert(root,i)\n",
    "    inorder(root)\n"
   ]
  },
  {
   "cell_type": "markdown",
   "id": "bcde914e",
   "metadata": {},
   "source": [
    "#### total number of commas"
   ]
  },
  {
   "cell_type": "code",
   "execution_count": 22,
   "id": "9a2c557f",
   "metadata": {},
   "outputs": [
    {
     "data": {
      "text/plain": [
       "68987"
      ]
     },
     "execution_count": 22,
     "metadata": {},
     "output_type": "execute_result"
    }
   ],
   "source": [
    "\"239,968,987\".replace(',',\"\")\n",
    "239968987//100000\n",
    "239968987%100000\n"
   ]
  },
  {
   "cell_type": "code",
   "execution_count": 24,
   "id": "eb4cfb6a",
   "metadata": {},
   "outputs": [
    {
     "name": "stdout",
     "output_type": "stream",
     "text": [
      "479799001\n"
     ]
    }
   ],
   "source": [
    "c= 2\n",
    "c=(c*2399)*100000-999\n",
    "\n",
    "print(c)"
   ]
  },
  {
   "cell_type": "code",
   "execution_count": 10,
   "id": "2560f409",
   "metadata": {},
   "outputs": [
    {
     "name": "stdout",
     "output_type": "stream",
     "text": [
      "0\n"
     ]
    }
   ],
   "source": [
    "\n",
    "ls= [-5,7,-10,-3,0,3,-5,1]\n",
    "val=ls[0]\n",
    "for i in ls:\n",
    "    if i< val and i>0:\n",
    "        val = i\n",
    "if val<0:\n",
    "    val=0\n",
    "print(val)"
   ]
  },
  {
   "cell_type": "code",
   "execution_count": 15,
   "id": "b022d632",
   "metadata": {},
   "outputs": [
    {
     "name": "stdout",
     "output_type": "stream",
     "text": [
      "[3, 4, -1, 1]\n",
      "2\n"
     ]
    }
   ],
   "source": [
    "ls= [3,4,-1,1]\n",
    "ran =list(range(1,max(ls)+1))\n",
    "print(ls)\n",
    "for i in ls :\n",
    "    if i in ran:\n",
    "        ran.remove(i)\n",
    "\n",
    "print(ran[0])"
   ]
  },
  {
   "cell_type": "code",
   "execution_count": 17,
   "id": "8863f722",
   "metadata": {},
   "outputs": [
    {
     "name": "stdout",
     "output_type": "stream",
     "text": [
      "[-8, -3, -2, -2, -1, -1, 2, 3, 4, 6]\n"
     ]
    }
   ],
   "source": [
    "l=[4,-1,-3,6,-2,-1,3,2,-8,-2]\n",
    "print(sorted(l))"
   ]
  },
  {
   "cell_type": "code",
   "execution_count": null,
   "id": "d9610ce8",
   "metadata": {},
   "outputs": [],
   "source": []
  }
 ],
 "metadata": {
  "kernelspec": {
   "display_name": "Python 3 (ipykernel)",
   "language": "python",
   "name": "python3"
  },
  "language_info": {
   "codemirror_mode": {
    "name": "ipython",
    "version": 3
   },
   "file_extension": ".py",
   "mimetype": "text/x-python",
   "name": "python",
   "nbconvert_exporter": "python",
   "pygments_lexer": "ipython3",
   "version": "3.11.5"
  },
  "varInspector": {
   "cols": {
    "lenName": 16,
    "lenType": 16,
    "lenVar": 40
   },
   "kernels_config": {
    "python": {
     "delete_cmd_postfix": "",
     "delete_cmd_prefix": "del ",
     "library": "var_list.py",
     "varRefreshCmd": "print(var_dic_list())"
    },
    "r": {
     "delete_cmd_postfix": ") ",
     "delete_cmd_prefix": "rm(",
     "library": "var_list.r",
     "varRefreshCmd": "cat(var_dic_list()) "
    }
   },
   "types_to_exclude": [
    "module",
    "function",
    "builtin_function_or_method",
    "instance",
    "_Feature"
   ],
   "window_display": false
  }
 },
 "nbformat": 4,
 "nbformat_minor": 5
}
