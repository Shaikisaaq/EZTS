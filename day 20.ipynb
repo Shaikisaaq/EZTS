{
 "cells": [
  {
   "cell_type": "code",
   "execution_count": 1,
   "id": "135cc205",
   "metadata": {},
   "outputs": [
    {
     "name": "stdout",
     "output_type": "stream",
     "text": [
      "20 45 34 89 41 5 75 67 54 98\n",
      " 9\n",
      " 9\n",
      " 5\n",
      " 9\n",
      " 5\n",
      " 1\n",
      " 9\n",
      " 5\n",
      " 1\n",
      " 8\n",
      " 9\n",
      " 5\n",
      " 1\n",
      " 8\n",
      " 4\n",
      " 9\n",
      " 5\n",
      " 1\n",
      " 8\n",
      " 4\n",
      " 0\n",
      " 9\n",
      " 5\n",
      " 1\n",
      " 8\n",
      " 4\n",
      " 0\n",
      " 7\n",
      " 9\n",
      " 5\n",
      " 1\n",
      " 8\n",
      " 4\n",
      " 0\n",
      " 7\n",
      " 3\n",
      " 9\n",
      " 5\n",
      " 1\n",
      " 8\n",
      " 4\n",
      " 0\n",
      " 7\n",
      " 3\n",
      " 10\n"
     ]
    },
    {
     "ename": "IndexError",
     "evalue": "list index out of range",
     "output_type": "error",
     "traceback": [
      "\u001b[1;31m---------------------------------------------------------------------------\u001b[0m",
      "\u001b[1;31mIndexError\u001b[0m                                Traceback (most recent call last)",
      "Cell \u001b[1;32mIn[1], line 19\u001b[0m\n\u001b[0;32m     17\u001b[0m     k\u001b[38;5;241m=\u001b[39mls[i]\u001b[38;5;241m%\u001b[39m\u001b[38;5;241m11\u001b[39m\n\u001b[0;32m     18\u001b[0m     k1\u001b[38;5;241m=\u001b[39m\u001b[38;5;241m8\u001b[39m\u001b[38;5;241m-\u001b[39m(k\u001b[38;5;241m%\u001b[39m\u001b[38;5;241m8\u001b[39m)     \n\u001b[1;32m---> 19\u001b[0m     n(k,k1,ls[i],i)\n\u001b[0;32m     20\u001b[0m \u001b[38;5;28mprint\u001b[39m()\n\u001b[0;32m     21\u001b[0m \u001b[38;5;28mprint\u001b[39m(ls)\n",
      "Cell \u001b[1;32mIn[1], line 13\u001b[0m, in \u001b[0;36mn\u001b[1;34m(k1, k2, v, i)\u001b[0m\n\u001b[0;32m     10\u001b[0m     \u001b[38;5;28;01mreturn\u001b[39;00m vis\n\u001b[0;32m     12\u001b[0m \u001b[38;5;28;01melse\u001b[39;00m:\n\u001b[1;32m---> 13\u001b[0m     \u001b[38;5;28;01mreturn\u001b[39;00m n(k1,k2,v,i\u001b[38;5;241m+\u001b[39m\u001b[38;5;241m1\u001b[39m)\n",
      "Cell \u001b[1;32mIn[1], line 13\u001b[0m, in \u001b[0;36mn\u001b[1;34m(k1, k2, v, i)\u001b[0m\n\u001b[0;32m     10\u001b[0m     \u001b[38;5;28;01mreturn\u001b[39;00m vis\n\u001b[0;32m     12\u001b[0m \u001b[38;5;28;01melse\u001b[39;00m:\n\u001b[1;32m---> 13\u001b[0m     \u001b[38;5;28;01mreturn\u001b[39;00m n(k1,k2,v,i\u001b[38;5;241m+\u001b[39m\u001b[38;5;241m1\u001b[39m)\n",
      "    \u001b[1;31m[... skipping similar frames: n at line 13 (5 times)]\u001b[0m\n",
      "Cell \u001b[1;32mIn[1], line 13\u001b[0m, in \u001b[0;36mn\u001b[1;34m(k1, k2, v, i)\u001b[0m\n\u001b[0;32m     10\u001b[0m     \u001b[38;5;28;01mreturn\u001b[39;00m vis\n\u001b[0;32m     12\u001b[0m \u001b[38;5;28;01melse\u001b[39;00m:\n\u001b[1;32m---> 13\u001b[0m     \u001b[38;5;28;01mreturn\u001b[39;00m n(k1,k2,v,i\u001b[38;5;241m+\u001b[39m\u001b[38;5;241m1\u001b[39m)\n",
      "Cell \u001b[1;32mIn[1], line 8\u001b[0m, in \u001b[0;36mn\u001b[1;34m(k1, k2, v, i)\u001b[0m\n\u001b[0;32m      6\u001b[0m k\u001b[38;5;241m=\u001b[39m(k1\u001b[38;5;241m+\u001b[39m(i\u001b[38;5;241m*\u001b[39mk2))\u001b[38;5;241m%\u001b[39m\u001b[38;5;241m11\u001b[39m\n\u001b[0;32m      7\u001b[0m \u001b[38;5;28mprint\u001b[39m(k)\n\u001b[1;32m----> 8\u001b[0m \u001b[38;5;28;01mif\u001b[39;00m vis[k] \u001b[38;5;241m==\u001b[39m \u001b[38;5;28;01mFalse\u001b[39;00m:\n\u001b[0;32m      9\u001b[0m     vis[k]\u001b[38;5;241m=\u001b[39mv\n\u001b[0;32m     10\u001b[0m     \u001b[38;5;28;01mreturn\u001b[39;00m vis\n",
      "\u001b[1;31mIndexError\u001b[0m: list index out of range"
     ]
    }
   ],
   "source": [
    "ls=list(map(int,input().split()))\n",
    "vis=[False for i in ls]\n",
    "\n",
    "def n(k1,k2,v,i):\n",
    "    print(end=\" \")\n",
    "    k=(k1+(i*k2))%11\n",
    "    print(k)\n",
    "    if vis[k] == False:\n",
    "        vis[k]=v\n",
    "        return vis\n",
    "    \n",
    "    else:\n",
    "        return n(k1,k2,v,i+1)\n",
    " \n",
    "for i in range(len(ls)-1):\n",
    "    i=0\n",
    "    k=ls[i]%11\n",
    "    k1=8-(k%8)     \n",
    "    n(k,k1,ls[i],i)\n",
    "print()\n",
    "print(ls)\n",
    "print(vis)"
   ]
  },
  {
   "cell_type": "code",
   "execution_count": 25,
   "id": "5892447d",
   "metadata": {},
   "outputs": [
    {
     "name": "stdout",
     "output_type": "stream",
     "text": [
      "Minimum number of coins to make 18 is: 4\n"
     ]
    }
   ],
   "source": [
    "def min_coins(coins,amount):\n",
    "    dp=[float('inf')]*(amount+1)\n",
    "    dp[0]=0\n",
    "    for i in range(1,amount+1):\n",
    "        for coin in coins:\n",
    "            if i-coin >= 0:\n",
    "                dp[i]=min(dp[i], dp[i-coin]+1)\n",
    "    return dp[amount] if dp[amount] != float('inf') else -1\n",
    "\n",
    "coins=[1,5,7]\n",
    "amount=18\n",
    "result=min_coins(coins, amount)\n",
    "print(f\"Minimum number of coins to make {amount} is: {result}\")\n"
   ]
  },
  {
   "cell_type": "code",
   "execution_count": 27,
   "id": "cff25c28",
   "metadata": {},
   "outputs": [
    {
     "name": "stdout",
     "output_type": "stream",
     "text": [
      "enter the value of n: 8\n",
      "Q 0 0 0 0 0 0 0\n",
      "0 0 0 0 Q 0 0 0\n",
      "0 0 0 0 0 0 0 Q\n",
      "0 0 0 0 0 Q 0 0\n",
      "0 0 Q 0 0 0 0 0\n",
      "0 0 0 0 0 0 Q 0\n",
      "0 Q 0 0 0 0 0 0\n",
      "0 0 0 Q 0 0 0 0\n"
     ]
    }
   ],
   "source": [
    "def solve_n_queens(n):\n",
    "    def is_valid(board,row,col):\n",
    "        for r,c in zip(range(row), board):\n",
    "            if c==col or abs(c-col)==abs(r-row):\n",
    "                return False\n",
    "        return True\n",
    "\n",
    "    def solve(board,row):\n",
    "        if row==n:\n",
    "            return board\n",
    "        for col in range(n):\n",
    "            if is_valid(board,row,col):\n",
    "                board[row]=col\n",
    "                solution=solve(board,row+1)\n",
    "                if solution:\n",
    "                    return solution\n",
    "                board[row]=-1\n",
    "        return None\n",
    "    board = [-1]*n\n",
    "    solution = solve(board,0)\n",
    "    if solution:\n",
    "        nested_list = [['Q' if col==solution[row] else '0' for col in range(n)] for row in range(n)]\n",
    "        return nested_list\n",
    "    else:\n",
    "        return None\n",
    "\n",
    "n = int(input('enter the value of n: '))\n",
    "solution = solve_n_queens(n)\n",
    "if solution:\n",
    "    for row in solution:\n",
    "        print(' '.join(row))\n",
    "else:\n",
    "    print(\"No solution found.\")\n"
   ]
  },
  {
   "cell_type": "code",
   "execution_count": 17,
   "id": "cb3e528c",
   "metadata": {},
   "outputs": [
    {
     "name": "stdout",
     "output_type": "stream",
     "text": [
      "Enter the number of queens: 8\n",
      "[1, 0, 0, 0, 0, 0, 0, 0]\n",
      "[0, 0, 1, 0, 0, 0, 0, 0]\n",
      "[0, 0, 0, 0, 1, 0, 0, 0]\n",
      "[0, 0, 0, 0, 0, 0, 0, 1]\n",
      "[0, 1, 0, 0, 0, 0, 0, 0]\n",
      "[0, 0, 0, 1, 0, 0, 0, 0]\n",
      "[0, 0, 0, 0, 0, 1, 0, 0]\n",
      "[0, 0, 1, 0, 0, 0, 0, 0]\n"
     ]
    }
   ],
   "source": [
    "N=int(input(\"Enter the number of queens: \"))\n",
    "board=[[0]*N for _ in range(N)]\n",
    "\n",
    "def attack(i, j):\n",
    "    return any(board[i][k]==1 or board[k][j]==1 or\n",
    "               board[k][l]==1 for k in range(N) for l in range(N)\n",
    "               if k+l==i+j or k-l==i-j)\n",
    "\n",
    "def queens(n):\n",
    "    if n==0:\n",
    "        return True\n",
    "    for i in range(N):\n",
    "        for j in range(N):\n",
    "            if not attack(i,j) and board[i][j]!=1:\n",
    "                board[i][j]=1\n",
    "                if queens(n-1):\n",
    "                    return True\n",
    "                board[i][j]=0\n",
    "    return False\n",
    "\n",
    "queens(N)\n",
    "for i in board:\n",
    "    print(i)"
   ]
  },
  {
   "cell_type": "code",
   "execution_count": 26,
   "id": "ba0b55b8",
   "metadata": {},
   "outputs": [],
   "source": [
    "# find the minimum coin using dynamic programming "
   ]
  },
  {
   "cell_type": "code",
   "execution_count": null,
   "id": "93c0de5c",
   "metadata": {},
   "outputs": [],
   "source": []
  }
 ],
 "metadata": {
  "kernelspec": {
   "display_name": "Python 3 (ipykernel)",
   "language": "python",
   "name": "python3"
  },
  "language_info": {
   "codemirror_mode": {
    "name": "ipython",
    "version": 3
   },
   "file_extension": ".py",
   "mimetype": "text/x-python",
   "name": "python",
   "nbconvert_exporter": "python",
   "pygments_lexer": "ipython3",
   "version": "3.11.5"
  },
  "varInspector": {
   "cols": {
    "lenName": 16,
    "lenType": 16,
    "lenVar": 40
   },
   "kernels_config": {
    "python": {
     "delete_cmd_postfix": "",
     "delete_cmd_prefix": "del ",
     "library": "var_list.py",
     "varRefreshCmd": "print(var_dic_list())"
    },
    "r": {
     "delete_cmd_postfix": ") ",
     "delete_cmd_prefix": "rm(",
     "library": "var_list.r",
     "varRefreshCmd": "cat(var_dic_list()) "
    }
   },
   "types_to_exclude": [
    "module",
    "function",
    "builtin_function_or_method",
    "instance",
    "_Feature"
   ],
   "window_display": false
  }
 },
 "nbformat": 4,
 "nbformat_minor": 5
}
