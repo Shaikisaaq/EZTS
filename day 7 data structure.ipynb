{
 "cells": [
  {
   "cell_type": "markdown",
   "id": "8d2d8c73",
   "metadata": {},
   "source": [
    "### Stack\n"
   ]
  },
  {
   "cell_type": "code",
   "execution_count": 9,
   "id": "4b14aefc",
   "metadata": {},
   "outputs": [
    {
     "name": "stdout",
     "output_type": "stream",
     "text": [
      "[10, 20, 30, 40]\n",
      "40\n",
      "3\n"
     ]
    }
   ],
   "source": [
    "class Stack:\n",
    "    def __init__(self):\n",
    "        self.items=[]\n",
    "    \n",
    "    def push(self,data):\n",
    "        self.items.append(data)\n",
    "    def pop(self):\n",
    "        return self.items.pop()\n",
    "    \n",
    "    def size(self):\n",
    "        return len(self.items)\n",
    "\n",
    "s=Stack()\n",
    "s.push(10)\n",
    "s.push(20)\n",
    "s.push(30)\n",
    "s.push(40)\n",
    "print(s.items)\n",
    "print(s.pop())\n",
    "print(s.size())"
   ]
  },
  {
   "cell_type": "code",
   "execution_count": 36,
   "id": "62dd28f6",
   "metadata": {},
   "outputs": [
    {
     "name": "stdout",
     "output_type": "stream",
     "text": [
      "15\n",
      "[3, 5, 2, 14, 5, 3, 7, 9, 4, 6, 9, 4, 2, 5, 3]\n",
      "[5, 14, 14, -1, 7, 7, 9, -1, 6, 9, -1, 5, 5, -1, -1]\n"
     ]
    }
   ],
   "source": [
    "# problem done by me\n",
    "\n",
    "l=[3,5,2,14,5,3,7,9,4,6,9,4,2,5,3]\n",
    "ls=l.copy()\n",
    "j=i=n=0\n",
    "length=len(l)\n",
    "print(length)\n",
    "c=0\n",
    "while n!=length:\n",
    "    i+=1\n",
    "    val =l[j]\n",
    "    if l[i] >val:\n",
    "        ls[j]=l[i]\n",
    "        i=j\n",
    "        j+=1\n",
    "        n+=1\n",
    "    if i == length-1:\n",
    "        ls[j]=-1\n",
    "        i=j\n",
    "        j+=1\n",
    "        n+=1\n",
    "    c+=1\n",
    "print(l)\n",
    "print(ls)\n"
   ]
  },
  {
   "cell_type": "code",
   "execution_count": 32,
   "id": "4435d1c6",
   "metadata": {},
   "outputs": [],
   "source": [
    "# code for stack \n",
    "L=[3,5,2,14,5,3,7,9,4,6,9,4,2,5,3]\n",
    "O="
   ]
  },
  {
   "cell_type": "code",
   "execution_count": 34,
   "id": "48717141",
   "metadata": {},
   "outputs": [
    {
     "name": "stdout",
     "output_type": "stream",
     "text": [
      "[10, 20, 30, 40]\n",
      "10\n",
      "3\n"
     ]
    }
   ],
   "source": [
    "# Queue\n",
    "\n",
    "class Queue:\n",
    "    def __init__(self):\n",
    "        self.item=[]\n",
    "    def push(self,data):\n",
    "        self.item.append(data)\n",
    "    def pop(self):\n",
    "        return self.item.pop(0)\n",
    "    def size(self):\n",
    "        return len(self.item)\n",
    "\n",
    "s=Queue()\n",
    "s.push(10)\n",
    "s.push(20)\n",
    "s.push(30)\n",
    "s.push(40)\n",
    "print(s.item)\n",
    "print(s.pop())\n",
    "print(s.size())"
   ]
  },
  {
   "cell_type": "code",
   "execution_count": 45,
   "id": "e94a9725",
   "metadata": {},
   "outputs": [
    {
     "name": "stdout",
     "output_type": "stream",
     "text": [
      "hsffd\n"
     ]
    }
   ],
   "source": [
    "ls=[]\n",
    "if ls ==[]:\n",
    "    print('hsffd')"
   ]
  },
  {
   "cell_type": "markdown",
   "id": "5a13284d",
   "metadata": {},
   "source": [
    "### linked list\n"
   ]
  },
  {
   "cell_type": "code",
   "execution_count": 35,
   "id": "93f9480f",
   "metadata": {},
   "outputs": [
    {
     "name": "stdout",
     "output_type": "stream",
     "text": [
      "<__main__.Node object at 0x00000169E875E510>\n",
      "<__main__.Node object at 0x00000169E714DD10>\n",
      "<__main__.Node object at 0x00000169E714DD10>\n"
     ]
    }
   ],
   "source": [
    "class Node:\n",
    "    def __init__(self,data):\n",
    "        self.value=data\n",
    "        self.next=None\n",
    "Head=Tail=Node(10) \n",
    "\n",
    "Tail.next=Node(20)\n",
    "Tail=Tail.next\n",
    "\n",
    "Tail.next=Node(30)\n",
    "Tail=Tail.next\n",
    "\n",
    "Tail.next=Node(40)\n",
    "Tail=Tail.next\n",
    "\n",
    "print(Head)\n",
    "print(Tail)\n",
    "print(Head.next.next.next)"
   ]
  },
  {
   "cell_type": "code",
   "execution_count": 36,
   "id": "b15a0ddc",
   "metadata": {},
   "outputs": [
    {
     "name": "stdout",
     "output_type": "stream",
     "text": [
      "10\n",
      "15\n",
      "20\n",
      "30\n"
     ]
    }
   ],
   "source": [
    "def display(head):\n",
    "    if head == None:\n",
    "        print ('list is empty')\n",
    "        return\n",
    "    curr = head \n",
    "    while curr !=None:\n",
    "        print(curr.value)\n",
    "        curr = curr.next\n",
    "        \n",
    "display(head)"
   ]
  },
  {
   "cell_type": "code",
   "execution_count": 52,
   "id": "78c83c46",
   "metadata": {},
   "outputs": [
    {
     "name": "stdout",
     "output_type": "stream",
     "text": [
      "enter the value1\n",
      "enter the value2\n",
      "enter the value3\n",
      "enter the value4\n",
      "4\n",
      "3\n",
      "2\n",
      "1\n"
     ]
    }
   ],
   "source": [
    "class Node:\n",
    "    def __init__(self,data):\n",
    "        self.value=data\n",
    "        self.next=None\n",
    "\n",
    "head=None\n",
    "def insertfirst(head):\n",
    "    data=int(input('enter the value'))\n",
    "    temp =Node(data)\n",
    "    temp.next=head\n",
    "    head = temp\n",
    "    return head\n",
    "\n",
    "def insertback(head):\n",
    "    data=int(input('enter the value'))\n",
    "    temp =Node(data)\n",
    "    while head!=None:\n",
    "        if head.next ==None:\n",
    "            head.next= temp\n",
    "            temp=head\n",
    "        head = head.next\n",
    "    return head\n",
    "for i in range(4):\n",
    "    head = insertfirst(head)\n",
    "    \n",
    "def display(head):\n",
    "    if head == None:\n",
    "        print ('list is empty')\n",
    "        return\n",
    "    curr = head \n",
    "    while curr !=None:\n",
    "        print(curr.value)\n",
    "        curr = curr.next\n",
    "        \n",
    "display(head)"
   ]
  },
  {
   "cell_type": "markdown",
   "id": "7424cd86",
   "metadata": {},
   "source": [
    "#### \"2+2\""
   ]
  },
  {
   "cell_type": "code",
   "execution_count": 79,
   "id": "fd76132d",
   "metadata": {},
   "outputs": [
    {
     "name": "stdout",
     "output_type": "stream",
     "text": [
      "2-1\n",
      "1.0\n"
     ]
    }
   ],
   "source": [
    "l=[i for i in input()]\n",
    "op='/*-+'\n",
    "\n",
    "for i in l:\n",
    "    idex=0\n",
    "    if i in op:\n",
    "        idex= l.index(i)\n",
    "        val1 = float(''.join(l[:idex]))\n",
    "        val2 =float(''.join(l[idex+1:]))\n",
    "        oper= l[idex]\n",
    "        break\n",
    "if oper == '+':\n",
    "    print( val1+val2)\n",
    "elif oper == '-':\n",
    "    print( val1-val2)\n",
    "elif oper == '*':\n",
    "    print( val1*val2) \n",
    "elif oper == '/':\n",
    "    print( val1/val2)"
   ]
  },
  {
   "cell_type": "code",
   "execution_count": 80,
   "id": "139c2a88",
   "metadata": {},
   "outputs": [
    {
     "name": "stdout",
     "output_type": "stream",
     "text": [
      "2+2\n",
      "2 2\n",
      "4.0\n"
     ]
    }
   ],
   "source": [
    "s=input()\n",
    "op=['+','-','/','%']\n",
    "\n",
    "for i in s:\n",
    "    if i in op:\n",
    "        x=i\n",
    "        s=s.replace(i,\" \")\n",
    "print(s)\n",
    "l=list(map(float,s.split(\" \")))\n",
    "match x:\n",
    "    case '+':print(l[0]+l[1])\n",
    "    case '-':print(l[0]-l[1])\n",
    "    case '/':print(l[0]/l[1])\n",
    "    case '%':print(l[0]%l[1])\n",
    "    case  _:print(\"invalid\")"
   ]
  },
  {
   "cell_type": "code",
   "execution_count": null,
   "id": "1d2e4cb2",
   "metadata": {},
   "outputs": [],
   "source": []
  }
 ],
 "metadata": {
  "kernelspec": {
   "display_name": "Python 3 (ipykernel)",
   "language": "python",
   "name": "python3"
  },
  "language_info": {
   "codemirror_mode": {
    "name": "ipython",
    "version": 3
   },
   "file_extension": ".py",
   "mimetype": "text/x-python",
   "name": "python",
   "nbconvert_exporter": "python",
   "pygments_lexer": "ipython3",
   "version": "3.11.5"
  },
  "varInspector": {
   "cols": {
    "lenName": 16,
    "lenType": 16,
    "lenVar": 40
   },
   "kernels_config": {
    "python": {
     "delete_cmd_postfix": "",
     "delete_cmd_prefix": "del ",
     "library": "var_list.py",
     "varRefreshCmd": "print(var_dic_list())"
    },
    "r": {
     "delete_cmd_postfix": ") ",
     "delete_cmd_prefix": "rm(",
     "library": "var_list.r",
     "varRefreshCmd": "cat(var_dic_list()) "
    }
   },
   "types_to_exclude": [
    "module",
    "function",
    "builtin_function_or_method",
    "instance",
    "_Feature"
   ],
   "window_display": false
  }
 },
 "nbformat": 4,
 "nbformat_minor": 5
}
