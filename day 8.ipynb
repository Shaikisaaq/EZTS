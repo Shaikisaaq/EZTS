{
 "cells": [
  {
   "cell_type": "markdown",
   "id": "c6ae35b9",
   "metadata": {},
   "source": [
    "### Sorting "
   ]
  },
  {
   "cell_type": "code",
   "execution_count": 63,
   "id": "03a226e9",
   "metadata": {},
   "outputs": [
    {
     "name": "stdout",
     "output_type": "stream",
     "text": [
      "[10, 15, 7, 23, 5]\n",
      "[10, 7, 15, 23, 5]\n",
      "[10, 7, 15, 5, 23]\n",
      "[7, 10, 15, 5, 23]\n",
      "[7, 10, 5, 15, 23]\n",
      "[7, 5, 10, 15, 23]\n",
      "[5, 7, 10, 15, 23]\n",
      "6\n"
     ]
    }
   ],
   "source": [
    "# bubble sort\n",
    "\n",
    "n=[10,15,7,23,5]\n",
    "print(n)\n",
    "c=0\n",
    "for i in range(0,len(n)):\n",
    "    for j in range(0,len(n)-1-i):\n",
    "        if n[j]>n[j+1]:\n",
    "            n[j],n[j+1] = n[j+1],n[j]\n",
    "            print(n)\n",
    "            c+=1\n",
    "print(c)"
   ]
  },
  {
   "cell_type": "code",
   "execution_count": 64,
   "id": "4680b401",
   "metadata": {},
   "outputs": [
    {
     "name": "stdout",
     "output_type": "stream",
     "text": [
      "5\n"
     ]
    }
   ],
   "source": [
    "min=n[0]\n",
    "for i in n:\n",
    "    if i< min:\n",
    "        min = i\n",
    "print(min)"
   ]
  },
  {
   "cell_type": "code",
   "execution_count": 20,
   "id": "a5e01375",
   "metadata": {},
   "outputs": [
    {
     "name": "stdout",
     "output_type": "stream",
     "text": [
      "1 2 3 4 45 \n",
      "[1, 2, 3, 4, 45]\n"
     ]
    }
   ],
   "source": [
    "l = list(map(int,input().split()))\n",
    "print(l)"
   ]
  },
  {
   "cell_type": "code",
   "execution_count": 47,
   "id": "32c14395",
   "metadata": {},
   "outputs": [
    {
     "name": "stdout",
     "output_type": "stream",
     "text": [
      "[10, 15, 7, 23, 5]\n",
      "[7, 15, 10, 23, 5]\n",
      "[5, 15, 10, 23, 7]\n",
      "[5, 10, 15, 23, 7]\n",
      "[5, 7, 15, 23, 10]\n",
      "[5, 7, 10, 23, 15]\n",
      "[5, 7, 10, 15, 23]\n",
      "10\n"
     ]
    }
   ],
   "source": [
    "#selection sort\n",
    "\n",
    "n=[10,15,7,23,5]\n",
    "c=0\n",
    "print(n)\n",
    "for i in range(0,len(n)):\n",
    "    for j in range(i+1,len(n)):\n",
    "        if n[j] < n[i]:\n",
    "            n[i],n[j]=n[j],n[i]\n",
    "            print(n)\n",
    "        c+=1\n",
    "print(c)\n",
    "        "
   ]
  },
  {
   "cell_type": "code",
   "execution_count": 1,
   "id": "c8102769",
   "metadata": {},
   "outputs": [
    {
     "name": "stdout",
     "output_type": "stream",
     "text": [
      "58 38 29 17 47 28 36\n",
      "[38, 58, 29, 17, 47, 28, 36]\n",
      "[38, 29, 58, 17, 47, 28, 36]\n",
      "[29, 38, 58, 17, 47, 28, 36]\n",
      "[29, 38, 17, 58, 47, 28, 36]\n",
      "[29, 17, 38, 58, 47, 28, 36]\n",
      "[17, 29, 38, 58, 47, 28, 36]\n",
      "[17, 29, 38, 47, 58, 28, 36]\n",
      "[17, 29, 38, 47, 28, 58, 36]\n",
      "[17, 29, 38, 28, 47, 58, 36]\n",
      "[17, 29, 28, 38, 47, 58, 36]\n",
      "[17, 28, 29, 38, 47, 58, 36]\n",
      "[17, 28, 29, 38, 47, 36, 58]\n",
      "[17, 28, 29, 38, 36, 47, 58]\n",
      "[17, 28, 29, 36, 38, 47, 58]\n",
      "7 21\n"
     ]
    }
   ],
   "source": [
    "#insertion sort\n",
    "n=list(map(int,input().split()))\n",
    "c=0\n",
    "for i in range(1,len(n)):\n",
    "    j=i-1\n",
    "    while j!=-1:\n",
    "        if n[j] > n[i]:\n",
    "            n[j],n[i]=n[i],n[j]\n",
    "            i=j\n",
    "            print(n)\n",
    "        j-=1\n",
    "        c+=1\n",
    "print(len(n),c)\n"
   ]
  },
  {
   "cell_type": "code",
   "execution_count": 61,
   "id": "62881db1",
   "metadata": {},
   "outputs": [
    {
     "name": "stdout",
     "output_type": "stream",
     "text": [
      "1\n",
      "2\n",
      "3\n",
      "4\n",
      "5\n",
      "6\n",
      "7\n",
      "8\n",
      "9\n",
      "10\n"
     ]
    }
   ],
   "source": [
    "def p(n):\n",
    "    print(n)\n",
    "    if n>=10:\n",
    "        return\n",
    "    p(n+1)\n",
    "p(1)"
   ]
  },
  {
   "cell_type": "markdown",
   "id": "bd8ec4bb",
   "metadata": {},
   "source": []
  },
  {
   "cell_type": "code",
   "execution_count": 68,
   "id": "727101cb",
   "metadata": {},
   "outputs": [
    {
     "name": "stdout",
     "output_type": "stream",
     "text": [
      "[10, 9, 8, 7, 6, 5, 4, 3, 2, 1, 0]\n"
     ]
    }
   ],
   "source": [
    "print(list(range(10,-1,-1)))"
   ]
  },
  {
   "cell_type": "code",
   "execution_count": 74,
   "id": "edef2d10",
   "metadata": {},
   "outputs": [
    {
     "name": "stdout",
     "output_type": "stream",
     "text": [
      "120\n"
     ]
    }
   ],
   "source": [
    "def fact(n):\n",
    "    if n== 0:\n",
    "        return 1\n",
    "    return n*fact(n-1)\n",
    "print(fact(5))"
   ]
  },
  {
   "cell_type": "code",
   "execution_count": 11,
   "id": "d4f350db",
   "metadata": {},
   "outputs": [
    {
     "name": "stdout",
     "output_type": "stream",
     "text": [
      "5 43 6 3 634 6 \n",
      "sorted array= [3, 5, 6, 6, 43, 634]\n"
     ]
    }
   ],
   "source": [
    "# quick sort \n",
    "# if i found smaller element them pivot then increase j by 1\n",
    "#Quick sort\n",
    "\n",
    "def divide(l,low,high):\n",
    "    p=l[high]\n",
    "    pi=high\n",
    "    j=low-1\n",
    "    for i in range(low,high):\n",
    "        if l[i]<=p:\n",
    "            j+=1\n",
    "            l[i],l[j]=l[j],l[i]\n",
    "    j+=1\n",
    "    l[j],l[pi]=l[pi],l[j]\n",
    "    pi=j\n",
    "    return pi\n",
    "\n",
    "def Quick_Sort(l,low,high):\n",
    "    if low<high:\n",
    "        pi=divide(l,low,high)\n",
    "        Quick_Sort(l,low,pi-1)\n",
    "        Quick_Sort(l,pi+1,high)\n",
    "    return \n",
    "\n",
    "\n",
    "if __name__ ==\"__main__\":\n",
    "    l=list(map(int,input().split()))\n",
    "    Quick_Sort(l,0,len(l)-1)\n",
    "    \n",
    "    print(\"sorted array=\",l)"
   ]
  },
  {
   "cell_type": "code",
   "execution_count": 12,
   "id": "5df2d25d",
   "metadata": {},
   "outputs": [
    {
     "ename": "SyntaxError",
     "evalue": "invalid syntax (2244310975.py, line 6)",
     "output_type": "error",
     "traceback": [
      "\u001b[1;36m  Cell \u001b[1;32mIn[12], line 6\u001b[1;36m\u001b[0m\n\u001b[1;33m    if __name__ ==\u001b[0m\n\u001b[1;37m                  ^\u001b[0m\n\u001b[1;31mSyntaxError\u001b[0m\u001b[1;31m:\u001b[0m invalid syntax\n"
     ]
    }
   ],
   "source": [
    "# merge sorting algorithm\n",
    "def merge_sort(arr):\n",
    "    if len(arr) > 1:\n",
    "        mid = len(arr) // 2\n",
    "        left_half = arr[:mid]\n",
    "        right_half = arr[mid:]\n",
    "\n",
    "        merge_sort(left_half)\n",
    "        merge_sort(right_half)\n",
    "\n",
    "        i = j = k = 0\n",
    "\n",
    "        while i < len(left_half) and j < len(right_half):\n",
    "            if left_half[i] < right_half[j]:\n",
    "                arr[k] = left_half[i]\n",
    "                i += 1\n",
    "            else:\n",
    "                arr[k] = right_half[j]\n",
    "                j += 1\n",
    "            k += 1 \n",
    "\n",
    "        while i < len(left_half):\n",
    "            arr[k] = left_half[i]\n",
    "            i += 1\n",
    "            k += 1\n",
    "\n",
    "        while j < len(right_half):\n",
    "            arr[k] = right_half[j]\n",
    "            j += 1\n",
    "            k += 1\n",
    "\n",
    "if _name_ == \"_main_\":\n",
    "    arr = [12, 11, 13, 5, 6, 7]\n",
    "    print(\"Given array is\", arr)\n",
    "    merge_sort(arr)\n",
    "    print(\"Sorted array is\", arr)"
   ]
  },
  {
   "cell_type": "code",
   "execution_count": null,
   "id": "3b73948a",
   "metadata": {},
   "outputs": [],
   "source": [
    "def merge():\n",
    "    \n",
    "    "
   ]
  }
 ],
 "metadata": {
  "kernelspec": {
   "display_name": "Python 3 (ipykernel)",
   "language": "python",
   "name": "python3"
  },
  "language_info": {
   "codemirror_mode": {
    "name": "ipython",
    "version": 3
   },
   "file_extension": ".py",
   "mimetype": "text/x-python",
   "name": "python",
   "nbconvert_exporter": "python",
   "pygments_lexer": "ipython3",
   "version": "3.11.5"
  },
  "varInspector": {
   "cols": {
    "lenName": 16,
    "lenType": 16,
    "lenVar": 40
   },
   "kernels_config": {
    "python": {
     "delete_cmd_postfix": "",
     "delete_cmd_prefix": "del ",
     "library": "var_list.py",
     "varRefreshCmd": "print(var_dic_list())"
    },
    "r": {
     "delete_cmd_postfix": ") ",
     "delete_cmd_prefix": "rm(",
     "library": "var_list.r",
     "varRefreshCmd": "cat(var_dic_list()) "
    }
   },
   "types_to_exclude": [
    "module",
    "function",
    "builtin_function_or_method",
    "instance",
    "_Feature"
   ],
   "window_display": false
  }
 },
 "nbformat": 4,
 "nbformat_minor": 5
}
