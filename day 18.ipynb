{
 "cells": [
  {
   "cell_type": "code",
   "execution_count": 23,
   "id": "f30c3b88",
   "metadata": {},
   "outputs": [
    {
     "name": "stdout",
     "output_type": "stream",
     "text": [
      "{0: [10], 6: [16], 2: [62], 7: [], 9: []}\n"
     ]
    }
   ],
   "source": [
    "#hashing using k mod 10\n",
    "\n",
    "class Node:\n",
    "    def __init__(self,data):\n",
    "        self.next=None\n",
    "        self.val =data\n",
    "         \n",
    "k=[10,16,62,100,20,86,72,7,76,99]\n",
    "dic={i%10:[] for i in k }\n",
    "i=0\n",
    "for  k1,v in dic.items():\n",
    "    if k1 == k[i]%10:\n",
    "        v.append(k[i])\n",
    "    i+=1\n",
    "    \n",
    "print(dic)\n",
    "\n",
    "[22,10,47,42,56,100,50,92,99,79]\n",
    "[13,26,39,52,65,78,91,104,117,130]"
   ]
  },
  {
   "cell_type": "code",
   "execution_count": 15,
   "id": "ac4388a7",
   "metadata": {},
   "outputs": [
    {
     "name": "stdout",
     "output_type": "stream",
     "text": [
      "7 2 6 5 0 7 7 9 6 6 6 6 6 2 2 0 0 8 8 8 8 4 \n",
      "[47, 22, 16, 15, 20, 7, 39, 56, 62, 100, 98, 94, 41]\n",
      "[20, 100, 22, 62, 94, 15, 16, 47, 7, 39, 56, 98, False]\n"
     ]
    }
   ],
   "source": [
    "\n",
    "ls=[47,22,16,15,20,7,39,56,62,100,98,94,41]\n",
    "vis=[False for i in ls]\n",
    "\n",
    "def n(k,v):\n",
    "    print(v%10,end=\" \")\n",
    "    if vis[k] == False:\n",
    "        vis[k]=v\n",
    "        return vis\n",
    "    \n",
    "    else:\n",
    "        return n(k+1,v)\n",
    "    \n",
    "for i in range(len(ls)-1):\n",
    "    n(ls[i]%10,ls[i])\n",
    "print()\n",
    "print(ls)\n",
    "print(vis)"
   ]
  },
  {
   "cell_type": "code",
   "execution_count": 8,
   "id": "e68dd420",
   "metadata": {},
   "outputs": [
    {
     "data": {
      "text/plain": [
       "3"
      ]
     },
     "execution_count": 8,
     "metadata": {},
     "output_type": "execute_result"
    }
   ],
   "source": [
    "13%10"
   ]
  },
  {
   "cell_type": "code",
   "execution_count": null,
   "id": "b4c01356",
   "metadata": {},
   "outputs": [],
   "source": []
  }
 ],
 "metadata": {
  "kernelspec": {
   "display_name": "Python 3 (ipykernel)",
   "language": "python",
   "name": "python3"
  },
  "language_info": {
   "codemirror_mode": {
    "name": "ipython",
    "version": 3
   },
   "file_extension": ".py",
   "mimetype": "text/x-python",
   "name": "python",
   "nbconvert_exporter": "python",
   "pygments_lexer": "ipython3",
   "version": "3.11.5"
  },
  "varInspector": {
   "cols": {
    "lenName": 16,
    "lenType": 16,
    "lenVar": 40
   },
   "kernels_config": {
    "python": {
     "delete_cmd_postfix": "",
     "delete_cmd_prefix": "del ",
     "library": "var_list.py",
     "varRefreshCmd": "print(var_dic_list())"
    },
    "r": {
     "delete_cmd_postfix": ") ",
     "delete_cmd_prefix": "rm(",
     "library": "var_list.r",
     "varRefreshCmd": "cat(var_dic_list()) "
    }
   },
   "types_to_exclude": [
    "module",
    "function",
    "builtin_function_or_method",
    "instance",
    "_Feature"
   ],
   "window_display": false
  }
 },
 "nbformat": 4,
 "nbformat_minor": 5
}
