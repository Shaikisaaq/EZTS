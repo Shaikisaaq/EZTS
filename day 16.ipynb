{
 "cells": [
  {
   "cell_type": "code",
   "execution_count": 5,
   "id": "9d6421a0",
   "metadata": {},
   "outputs": [
    {
     "name": "stdout",
     "output_type": "stream",
     "text": [
      "[(0, 1), (0, 2), (0, 3), (1, 4), (2, 1), (2, 4), (3, 2), (3, 5), (4, 5)]\n",
      "\n",
      "{0: 0, 1: inf, 2: inf, 3: inf, 4: inf, 5: inf}\n",
      "\n",
      "{0: 0, 1: 1, 2: 3, 3: 5, 4: 0, 5: 3}\n"
     ]
    }
   ],
   "source": [
    " #BellmannFord\n",
    "g=[\n",
    "   [0,6,4,5,False,False],\n",
    "   [False,0,False,False,-1,False],\n",
    "   [False,-2,0,False,3,False],\n",
    "   [False,False,-2,0,False,-1],\n",
    "   [False,False,False,False,0,3],\n",
    "   [False,False,False,False,False,0]\n",
    "   ]\n",
    "d={0:\"A\",1:\"B\",2:\"C\",3:\"D\",4:\"E\",5:\"F\"}\n",
    "E_L=[]\n",
    "for i in range(len(g)):\n",
    "    for j in range(len(g[i])):\n",
    "        if g[i][j]!=False and g[i][j]!=0:\n",
    "            E_L.append(tuple((i,j)))\n",
    "print(E_L)\n",
    "dist={}\n",
    "for i in range(len(g)):\n",
    "    dist[i]=float(\"inf\")\n",
    "dist[0]=0\n",
    "print()\n",
    "print(dist)\n",
    "print()\n",
    "for i in range(len(g)-1):\n",
    "    for j in E_L: \n",
    "       new_dist=dist[j[0]]+g[j[0]][j[1]]\n",
    "       if dist[j[1]]>new_dist:\n",
    "           dist[j[1]]=new_dist\n",
    "print(dist)"
   ]
  },
  {
   "cell_type": "code",
   "execution_count": 1,
   "id": "e56fbf4b",
   "metadata": {},
   "outputs": [
    {
     "ename": "NameError",
     "evalue": "name 'g' is not defined",
     "output_type": "error",
     "traceback": [
      "\u001b[1;31m---------------------------------------------------------------------------\u001b[0m",
      "\u001b[1;31mNameError\u001b[0m                                 Traceback (most recent call last)",
      "Cell \u001b[1;32mIn[1], line 5\u001b[0m\n\u001b[0;32m      1\u001b[0m \u001b[38;5;66;03m#\u001b[39;00m\n\u001b[0;32m      4\u001b[0m temp\u001b[38;5;241m=\u001b[39m{}\n\u001b[1;32m----> 5\u001b[0m \u001b[38;5;28;01mfor\u001b[39;00m i \u001b[38;5;129;01min\u001b[39;00m \u001b[38;5;28mrange\u001b[39m(\u001b[38;5;28mlen\u001b[39m(g)):\n\u001b[0;32m      6\u001b[0m     temp[i]\u001b[38;5;241m=\u001b[39m \u001b[38;5;28mfloat\u001b[39m(\u001b[38;5;124m'\u001b[39m\u001b[38;5;124minf\u001b[39m\u001b[38;5;124m'\u001b[39m)\n\u001b[0;32m      7\u001b[0m dis\u001b[38;5;241m=\u001b[39m[\u001b[38;5;28mfloat\u001b[39m(\u001b[38;5;124m'\u001b[39m\u001b[38;5;124minf\u001b[39m\u001b[38;5;124m'\u001b[39m)]\u001b[38;5;241m*\u001b[39m\u001b[38;5;28mlen\u001b[39m(g)\n",
      "\u001b[1;31mNameError\u001b[0m: name 'g' is not defined"
     ]
    }
   ],
   "source": [
    "#\n",
    "\n",
    "\n",
    "temp={}\n",
    "for i in range(len(g)):\n",
    "    temp[i]= float('inf')\n",
    "dis=[float('inf')]*len(g)\n",
    "temp[0]=0\n",
    "\n",
    "while len(temp)>0:\n",
    "    min_value = min(temp.values())\n",
    "    min_key = min(temp,key=temp.get)\n",
    "    temp.pop(min_key)\n",
    "    dist[min_key]=min_value\n",
    "    for j in range(len(g[min_key])):\n",
    "        if g[min_key][j]!=False and g[min_key][j]:\n",
    "            new_dist = min_value+g[min_key][j]\n",
    "            if j in temp.keys() and temp[j]>new_dist:\n",
    "                temp[j] = new_dist\n",
    "print(dist)                \n",
    "                    "
   ]
  },
  {
   "cell_type": "markdown",
   "id": "ddd15336",
   "metadata": {},
   "source": []
  },
  {
   "cell_type": "code",
   "execution_count": 9,
   "id": "2e8265cf",
   "metadata": {},
   "outputs": [
    {
     "name": "stdout",
     "output_type": "stream",
     "text": [
      "Minimum Cost =  19\n",
      "(3, (0, 1, 2, 3))\n",
      "(4, (0, 1, 2, 4))\n",
      "(2, (0, 1, 2))\n",
      "(2, (0, 1, 3, 2))\n",
      "(4, (0, 1, 3, 4))\n",
      "(3, (0, 1, 3))\n",
      "(2, (0, 1, 4, 2))\n",
      "(3, (0, 1, 4, 3))\n",
      "(4, (0, 1, 4))\n",
      "(1, (0, 1))\n",
      "(3, (0, 2, 1, 3))\n",
      "(4, (0, 2, 1, 4))\n",
      "(1, (0, 2, 1))\n",
      "(1, (0, 2, 3, 1))\n",
      "(4, (0, 2, 3, 4))\n",
      "(3, (0, 2, 3))\n",
      "(1, (0, 2, 4, 1))\n",
      "(3, (0, 2, 4, 3))\n",
      "(4, (0, 2, 4))\n",
      "(2, (0, 2))\n",
      "(2, (0, 3, 1, 2))\n",
      "(4, (0, 3, 1, 4))\n",
      "(1, (0, 3, 1))\n",
      "(1, (0, 3, 2, 1))\n",
      "(4, (0, 3, 2, 4))\n",
      "(2, (0, 3, 2))\n",
      "(1, (0, 3, 4, 1))\n",
      "(2, (0, 3, 4, 2))\n",
      "(4, (0, 3, 4))\n",
      "(3, (0, 3))\n",
      "(2, (0, 4, 1, 2))\n",
      "(3, (0, 4, 1, 3))\n",
      "(1, (0, 4, 1))\n",
      "(1, (0, 4, 2, 1))\n",
      "(3, (0, 4, 2, 3))\n",
      "(2, (0, 4, 2))\n",
      "(1, (0, 4, 3, 1))\n",
      "(2, (0, 4, 3, 2))\n",
      "(3, (0, 4, 3))\n",
      "(4, (0, 4))\n",
      "(0, (0,))\n"
     ]
    }
   ],
   "source": [
    "#Travelling salesman problem     \n",
    "import sys            \n",
    "def Cost(curr,visited,G,DP):\n",
    "    n=len(G)\n",
    "    if len(visited)==n:\n",
    "        return G[curr][0] \n",
    "    visit=tuple(visited)\n",
    "    if (curr,visit) in DP:\n",
    "        return DP[(curr,visit)]\n",
    "    #min=float(\"inf\")\n",
    "    min_cost=sys.maxsize\n",
    "    for i in range(n):\n",
    "        if i not in visited:                                \n",
    "            new_visit=visited+[i]\n",
    "            new_cost=G[curr][i]+Cost(i,new_visit,G,DP) \n",
    "            min_cost=min(min_cost,new_cost)\n",
    "    DP[(curr,visit)]=min_cost\n",
    "    return min_cost\n",
    "           \n",
    "G=[\n",
    "   [0,4,7,5,5],\n",
    "   [4,0,2,3,8],\n",
    "   [7,2,0,3,4],\n",
    "   [5,3,3,0,6],\n",
    "   [5,8,4,6,0],\n",
    "   ]\n",
    "n=len(G)\n",
    "DP={} \n",
    "print(\"Minimum Cost = \", Cost(0,[0],G,DP))\n",
    "for i in DP:\n",
    "    print(i)"
   ]
  },
  {
   "cell_type": "code",
   "execution_count": 3,
   "id": "c7025ba4",
   "metadata": {},
   "outputs": [
    {
     "name": "stdout",
     "output_type": "stream",
     "text": [
      "['ABABACDEABAB', 'C', 'DAA']\n",
      "12\n",
      "18\n"
     ]
    }
   ],
   "source": [
    "s='ABABACDEABABABCABCABCABDAA'\n",
    "p='ABCAB'\n",
    "pl=len(p)\n",
    "s=s.split(p)\n",
    "print(s)\n",
    "c=0\n",
    "for i in range(0,len(s)-1):\n",
    "    c=c+len(s[i])\n",
    "    print(c)\n",
    "    c=c+pl\n",
    "    \n",
    "    \n",
    "    \n",
    "    \n",
    " "
   ]
  },
  {
   "cell_type": "code",
   "execution_count": 10,
   "id": "8ab2a069",
   "metadata": {},
   "outputs": [
    {
     "name": "stdout",
     "output_type": "stream",
     "text": [
      "12 15 18\n"
     ]
    }
   ],
   "source": [
    "S=\"ABABACDEABABABCABCABCABDAA\"\n",
    "P=\"ABCAB\"\n",
    "list=[]\n",
    "index=-1\n",
    "while True:\n",
    "    index=S.find(P,index+1)\n",
    "    if index==-1:\n",
    "        break\n",
    "    list.append(index)\n",
    "print(*list)"
   ]
  },
  {
   "cell_type": "code",
   "execution_count": null,
   "id": "de66692c",
   "metadata": {},
   "outputs": [],
   "source": [
    "#kmpl algorithm \n",
    "\n",
    "def kmpalgo(p,s):\n",
    "    m=len(p)\n",
    "    n=len(s)\n",
    "    lp=[]\n",
    "    LPS(p,m,lp)\n",
    "    while(n)\n",
    "\n",
    "def LPS(p,m,lps):\n",
    "    lps.append(0)\n",
    "    j=0\n",
    "    for i in range(1,len(p)):\n",
    "        if p[j]==p[i]:\n",
    "            lps.append(j+1)\n",
    "            j+=1\n",
    "        else:\n",
    "            lps.append(j)\n",
    "            \n",
    "S=\"ABABACDEABABABCABCABCABDAA\"\n",
    "P=\"ABCAB\"\n"
   ]
  },
  {
   "cell_type": "code",
   "execution_count": null,
   "id": "8f0a1298",
   "metadata": {},
   "outputs": [],
   "source": []
  }
 ],
 "metadata": {
  "kernelspec": {
   "display_name": "Python 3 (ipykernel)",
   "language": "python",
   "name": "python3"
  },
  "language_info": {
   "codemirror_mode": {
    "name": "ipython",
    "version": 3
   },
   "file_extension": ".py",
   "mimetype": "text/x-python",
   "name": "python",
   "nbconvert_exporter": "python",
   "pygments_lexer": "ipython3",
   "version": "3.11.5"
  },
  "varInspector": {
   "cols": {
    "lenName": 16,
    "lenType": 16,
    "lenVar": 40
   },
   "kernels_config": {
    "python": {
     "delete_cmd_postfix": "",
     "delete_cmd_prefix": "del ",
     "library": "var_list.py",
     "varRefreshCmd": "print(var_dic_list())"
    },
    "r": {
     "delete_cmd_postfix": ") ",
     "delete_cmd_prefix": "rm(",
     "library": "var_list.r",
     "varRefreshCmd": "cat(var_dic_list()) "
    }
   },
   "types_to_exclude": [
    "module",
    "function",
    "builtin_function_or_method",
    "instance",
    "_Feature"
   ],
   "window_display": false
  }
 },
 "nbformat": 4,
 "nbformat_minor": 5
}
