{
 "cells": [
  {
   "cell_type": "code",
   "execution_count": 14,
   "id": "76fe6e04",
   "metadata": {},
   "outputs": [
    {
     "name": "stdout",
     "output_type": "stream",
     "text": [
      "[(3, 30), (2, 20), (2, 10), (1, 40), (1, 50)]\n"
     ]
    }
   ],
   "source": [
    "#job sequence problem \n",
    "j=['j1','j2','j3','j4','j5']\n",
    "p=[20,40,10,30,50]\n",
    "d=[2,1,2,3,1]\n",
    "ls=[(d[i],p[i]) for i in range(len(p))]\n",
    "ls.sort(key=lambda x:x[0],reverse=True)\n",
    "print(ls)"
   ]
  },
  {
   "cell_type": "markdown",
   "id": "aa8d3f9c",
   "metadata": {},
   "source": [
    "### Dynamic programming"
   ]
  },
  {
   "cell_type": "code",
   "execution_count": 8,
   "id": "4586e441",
   "metadata": {},
   "outputs": [
    {
     "name": "stdout",
     "output_type": "stream",
     "text": [
      "51\n",
      "[-1, -1, -1, -1, -1, -1, -1, -1, -1, -1, -1, -1, -1, -1, -1, -1]\n",
      "[-1, 5, 5, 5, 5, 5, 5, 5, 5, 5, 5, 5, 5, 5, 5, 5]\n",
      "[-1, 5, 5, 10, 15, 15, 15, 15, 15, 15, 15, 15, 15, 15, 15, 15]\n",
      "[-1, -1, -1, -1, -1, 15, 20, 20, 25, 30, 30, 30, 30, 30, 30, 30]\n",
      "[-1, -1, -1, -1, -1, -1, -1, -1, -1, 30, 30, 30, 32, 37, 37, 37]\n",
      "[-1, -1, -1, -1, -1, -1, -1, -1, -1, -1, 38, -1, 38, 40, -1, 45]\n",
      "[-1, -1, -1, -1, -1, -1, -1, -1, -1, -1, -1, -1, -1, 47, -1, 47]\n",
      "[-1, -1, -1, -1, -1, -1, -1, -1, -1, -1, -1, -1, -1, -1, -1, 51]\n"
     ]
    }
   ],
   "source": [
    "#knapsack problem \n",
    "\n",
    "def calc_max(p,w,c,n):       \n",
    "    if n==0 or c==0:\n",
    "        return 0\n",
    "    if DP[n][c]!=-1:\n",
    "        return DP[n][c]\n",
    "    if w[n-1]<=c:\n",
    "        DP[n][c]=max(p[n-1] + calc_max(p,w,c-w[n-1],n-1),calc_max(p,w,c,n-1))\n",
    "        return DP[n][c]\n",
    "    else:\n",
    "        DP[n][c]=calc_max(p,w,c,n-1)\n",
    "        return DP[n][c]\n",
    "    \n",
    "\n",
    "P=[5,10,15,7,8,9,4]\n",
    "W= [1,3,5,4,1,3,2]\n",
    "DP=[[-1 for i in range(C+1)] for j in range(N+1)]\n",
    "C=15\n",
    "N=len(P)\n",
    "print(calc_max(P,W,C,N))\n",
    "for i in DP:\n",
    "    print(i)"
   ]
  },
  {
   "cell_type": "code",
   "execution_count": 13,
   "id": "9138cfde",
   "metadata": {},
   "outputs": [
    {
     "name": "stdout",
     "output_type": "stream",
     "text": [
      "[0, 0, 0, 0, 0, 0, 0, 0, 0, 0, 0, 0, 0, 0, 0, 0]\n",
      "[0, 5, 5, 5, 5, 5, 5, 5, 5, 5, 5, 5, 5, 5, 5, 5]\n",
      "[0, 5, 5, 10, 15, 15, 15, 15, 15, 15, 15, 15, 15, 15, 15, 15]\n",
      "[0, 5, 5, 10, 15, 15, 20, 20, 25, 30, 30, 30, 30, 30, 30, 30]\n",
      "[0, 5, 5, 10, 15, 15, 20, 20, 25, 30, 30, 30, 32, 37, 37, 37]\n",
      "[0, 8, 13, 13, 18, 23, 23, 28, 28, 33, 38, 38, 38, 40, 45, 45]\n",
      "[0, 8, 13, 13, 18, 23, 23, 28, 32, 33, 38, 38, 42, 47, 47, 47]\n",
      "[0, 8, 13, 13, 18, 23, 23, 28, 32, 33, 38, 38, 42, 47, 47, 51]\n"
     ]
    }
   ],
   "source": [
    "#knapsack problem\n",
    "def table(p,w,c,n):    \n",
    "    for i in range(1,n+1):\n",
    "        for j in range(1,c+1):\n",
    "            if w[i-1]<=j:\n",
    "                dp[i][j] = max(dp[i-1][j],dp[i-1][j-w[i-1]]+p[i-1])\n",
    "            else:\n",
    "                dp[i][j]=dp[i-1][j]\n",
    "\n",
    "p=[5,10,15,7,8,9,4]\n",
    "w=[1,3,5,4,1,3,2]\n",
    "c=15 \n",
    "n=len(p)\n",
    "dp=[[0 for _ in range(c+1)] for _ in range(n+1)]\n",
    "table(p,w,c,n)\n",
    "\n",
    "for i in dp:\n",
    "    print(i)"
   ]
  },
  {
   "cell_type": "code",
   "execution_count": null,
   "id": "7fcd25b3",
   "metadata": {},
   "outputs": [],
   "source": []
  },
  {
   "cell_type": "code",
   "execution_count": null,
   "id": "a7ff2332",
   "metadata": {},
   "outputs": [],
   "source": []
  }
 ],
 "metadata": {
  "kernelspec": {
   "display_name": "Python 3 (ipykernel)",
   "language": "python",
   "name": "python3"
  },
  "language_info": {
   "codemirror_mode": {
    "name": "ipython",
    "version": 3
   },
   "file_extension": ".py",
   "mimetype": "text/x-python",
   "name": "python",
   "nbconvert_exporter": "python",
   "pygments_lexer": "ipython3",
   "version": "3.11.5"
  },
  "varInspector": {
   "cols": {
    "lenName": 16,
    "lenType": 16,
    "lenVar": 40
   },
   "kernels_config": {
    "python": {
     "delete_cmd_postfix": "",
     "delete_cmd_prefix": "del ",
     "library": "var_list.py",
     "varRefreshCmd": "print(var_dic_list())"
    },
    "r": {
     "delete_cmd_postfix": ") ",
     "delete_cmd_prefix": "rm(",
     "library": "var_list.r",
     "varRefreshCmd": "cat(var_dic_list()) "
    }
   },
   "types_to_exclude": [
    "module",
    "function",
    "builtin_function_or_method",
    "instance",
    "_Feature"
   ],
   "window_display": false
  }
 },
 "nbformat": 4,
 "nbformat_minor": 5
}
