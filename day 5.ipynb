{
 "cells": [
  {
   "cell_type": "code",
   "execution_count": 3,
   "metadata": {},
   "outputs": [
    {
     "name": "stdout",
     "output_type": "stream",
     "text": [
      "5\n",
      "0\n",
      "1\n",
      "1\n",
      "2\n",
      "3\n",
      "5\n"
     ]
    }
   ],
   "source": [
    "def fib(n):\n",
    "    if n==1 :\n",
    "        return 1\n",
    "    if n==0:\n",
    "        return 0\n",
    "    return fib(n-1)+fib(n-2)\n",
    "n=int(input())\n",
    "for i in range(0,n+1):\n",
    "    print(fib(i))"
   ]
  },
  {
   "cell_type": "markdown",
   "metadata": {},
   "source": []
  },
  {
   "cell_type": "code",
   "execution_count": 26,
   "metadata": {},
   "outputs": [
    {
     "name": "stdout",
     "output_type": "stream",
     "text": [
      "enter the value of N:2\n",
      "[2, 3, True]\n",
      "(2, 5, True)\n"
     ]
    }
   ],
   "source": [
    "# find the smallest prime number larger than a given integer N\n",
    "\n",
    "def isprime(m):\n",
    "    if m ==1 :\n",
    "        return 0\n",
    "    flag =0\n",
    "    for i in range(2,(m//2)+1):\n",
    "        if m%2==0:\n",
    "            flag =1\n",
    "            break\n",
    "    if flag ==0:\n",
    "        return m\n",
    "    else:\n",
    "        return 0\n",
    "\n",
    "ls=[]    \n",
    "\n",
    "def gen(n):\n",
    "    while True:\n",
    "        val = isprime(n)\n",
    "        if val !=0:\n",
    "            ls.append(val)\n",
    "            return val\n",
    "        else:\n",
    "            n+=1\n",
    "\n",
    "N=int(input('enter the value of N:'))\n",
    "ls.append(N)\n",
    "for i in range(2):\n",
    "    N+=1\n",
    "    N=gen(N)\n",
    "    \n",
    "ls[2]=True if isprime(ls[1]*ls[2]) else ls[2]== False\n",
    "ls[1]=sum(list(range(ls[0],ls[1]+1)))\n",
    "\n",
    "print(tuple(ls))\n",
    "\n",
    "            \n",
    "    "
   ]
  },
  {
   "cell_type": "code",
   "execution_count": 20,
   "metadata": {},
   "outputs": [
    {
     "data": {
      "text/plain": [
       "55"
      ]
     },
     "execution_count": 20,
     "metadata": {},
     "output_type": "execute_result"
    }
   ],
   "source": [
    "sum(list(range(1,10+1)))"
   ]
  },
  {
   "cell_type": "code",
   "execution_count": 25,
   "metadata": {},
   "outputs": [
    {
     "name": "stdout",
     "output_type": "stream",
     "text": [
      "221\n"
     ]
    }
   ],
   "source": [
    "print(isprime(13*17))"
   ]
  },
  {
   "cell_type": "code",
   "execution_count": null,
   "metadata": {},
   "outputs": [],
   "source": []
  }
 ],
 "metadata": {
  "kernelspec": {
   "display_name": "Python 3 (ipykernel)",
   "language": "python",
   "name": "python3"
  },
  "language_info": {
   "codemirror_mode": {
    "name": "ipython",
    "version": 3
   },
   "file_extension": ".py",
   "mimetype": "text/x-python",
   "name": "python",
   "nbconvert_exporter": "python",
   "pygments_lexer": "ipython3",
   "version": "3.11.4"
  },
  "varInspector": {
   "cols": {
    "lenName": 16,
    "lenType": 16,
    "lenVar": 40
   },
   "kernels_config": {
    "python": {
     "delete_cmd_postfix": "",
     "delete_cmd_prefix": "del ",
     "library": "var_list.py",
     "varRefreshCmd": "print(var_dic_list())"
    },
    "r": {
     "delete_cmd_postfix": ") ",
     "delete_cmd_prefix": "rm(",
     "library": "var_list.r",
     "varRefreshCmd": "cat(var_dic_list()) "
    }
   },
   "types_to_exclude": [
    "module",
    "function",
    "builtin_function_or_method",
    "instance",
    "_Feature"
   ],
   "window_display": false
  }
 },
 "nbformat": 4,
 "nbformat_minor": 2
}
