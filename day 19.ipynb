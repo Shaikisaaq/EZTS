{
 "cells": [
  {
   "cell_type": "code",
   "execution_count": 54,
   "id": "31bca6ef",
   "metadata": {},
   "outputs": [
    {
     "name": "stdout",
     "output_type": "stream",
     "text": [
      "3\n",
      "4\n",
      "8\n",
      "10\n"
     ]
    },
    {
     "ename": "IndexError",
     "evalue": "list index out of range",
     "output_type": "error",
     "traceback": [
      "\u001b[1;31m---------------------------------------------------------------------------\u001b[0m",
      "\u001b[1;31mIndexError\u001b[0m                                Traceback (most recent call last)",
      "Cell \u001b[1;32mIn[54], line 13\u001b[0m\n\u001b[0;32m     11\u001b[0m j\u001b[38;5;241m=\u001b[39m\u001b[38;5;241m0\u001b[39m\n\u001b[0;32m     12\u001b[0m \u001b[38;5;28;01mwhile\u001b[39;00m i\u001b[38;5;241m<\u001b[39ml1 \u001b[38;5;129;01mor\u001b[39;00m j\u001b[38;5;241m<\u001b[39ml2:\n\u001b[1;32m---> 13\u001b[0m     \u001b[38;5;28;01mif\u001b[39;00m m[i][j\u001b[38;5;241m+\u001b[39m\u001b[38;5;241m1\u001b[39m] \u001b[38;5;241m<\u001b[39m m[i\u001b[38;5;241m+\u001b[39m\u001b[38;5;241m1\u001b[39m][j]:\n\u001b[0;32m     14\u001b[0m         j\u001b[38;5;241m+\u001b[39m\u001b[38;5;241m=\u001b[39m\u001b[38;5;241m1\u001b[39m\n\u001b[0;32m     15\u001b[0m         s\u001b[38;5;241m+\u001b[39m\u001b[38;5;241m=\u001b[39mm[i][j]\n",
      "\u001b[1;31mIndexError\u001b[0m: list index out of range"
     ]
    }
   ],
   "source": [
    "# find the minimum cost using greedy method only mvid\n",
    "m=[[1,2,2,3],\n",
    "   [3,1,4,2],\n",
    "   [1,5,3,3],\n",
    "   [1,2,1,1]\n",
    "  ]\n",
    "s=m[0][0]\n",
    "l1= len(m)-1\n",
    "l2=len(m)-1\n",
    "i=0\n",
    "j=0\n",
    "while i<l1 or j<l2:\n",
    "    if m[i][j+1] < m[i+1][j]:\n",
    "        j+=1\n",
    "        s+=m[i][j]\n",
    "    else:\n",
    "        i+=1\n",
    "        s+=m[i][j]\n",
    "    print(s)\n",
    "        "
   ]
  },
  {
   "cell_type": "code",
   "execution_count": 59,
   "id": "a222418f",
   "metadata": {},
   "outputs": [
    {
     "name": "stdout",
     "output_type": "stream",
     "text": [
      "14\n"
     ]
    }
   ],
   "source": [
    "m=[[1,2,2,3],\n",
    "   [3,1,4,2],\n",
    "   [1,5,3,3],\n",
    "   [1,2,1,1]\n",
    "  ]\n",
    "s=m[0][0]\n",
    "l1= len(m)-1\n",
    "l2=len(m)-1\n",
    "i=0\n",
    "j=0\n",
    "while i<l1 or j<l2:\n",
    "    if i==l1:\n",
    "        j+=1\n",
    "    elif j==l2:\n",
    "        i+=1\n",
    "    elif m[i][j+1] < m[i+1][j]:\n",
    "        j+=1\n",
    "    else:\n",
    "        i+=1\n",
    "    s+=m[i][j]\n",
    "print(s)"
   ]
  },
  {
   "cell_type": "code",
   "execution_count": null,
   "id": "395884d1",
   "metadata": {},
   "outputs": [],
   "source": [
    "m=[[1,2,2,3],\n",
    "   [3,1,4,2],\n",
    "   [1,5,3,3],\n",
    "   [1,2,1,1]\n",
    "  ]\n",
    "l1=len(m)\n",
    "l2=len(m[0])\n",
    "for i in range(0,l1):\n",
    "    for j in range(0,l2):\n",
    "        \n",
    "        "
   ]
  }
 ],
 "metadata": {
  "kernelspec": {
   "display_name": "Python 3 (ipykernel)",
   "language": "python",
   "name": "python3"
  },
  "language_info": {
   "codemirror_mode": {
    "name": "ipython",
    "version": 3
   },
   "file_extension": ".py",
   "mimetype": "text/x-python",
   "name": "python",
   "nbconvert_exporter": "python",
   "pygments_lexer": "ipython3",
   "version": "3.11.5"
  },
  "varInspector": {
   "cols": {
    "lenName": 16,
    "lenType": 16,
    "lenVar": 40
   },
   "kernels_config": {
    "python": {
     "delete_cmd_postfix": "",
     "delete_cmd_prefix": "del ",
     "library": "var_list.py",
     "varRefreshCmd": "print(var_dic_list())"
    },
    "r": {
     "delete_cmd_postfix": ") ",
     "delete_cmd_prefix": "rm(",
     "library": "var_list.r",
     "varRefreshCmd": "cat(var_dic_list()) "
    }
   },
   "types_to_exclude": [
    "module",
    "function",
    "builtin_function_or_method",
    "instance",
    "_Feature"
   ],
   "window_display": false
  }
 },
 "nbformat": 4,
 "nbformat_minor": 5
}
