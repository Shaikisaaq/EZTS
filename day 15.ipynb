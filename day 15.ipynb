{
 "cells": [
  {
   "cell_type": "code",
   "execution_count": null,
   "id": "a1873eb3",
   "metadata": {},
   "outputs": [],
   "source": [
    "graph = [\n",
    "    [0, 7, -1, -1, -1, -1, 2, -1, -1],\n",
    "    [7, 0, 4, 1, -1, 5, -1, -1, -1],\n",
    "    [-1, 4, 0, -1, -1, -1, 8, -1, -1],\n",
    "    [-1, 1, -1, 0, 6, 8, 3, 3, -1],\n",
    "    [-1, -1, -1, 6, 0, -1, 6, 8, -1],\n",
    "    [-1, 5, -1, 8, -1, 0, -1, -1, -1],\n",
    "    [2, -1, 8, 3, 6, -1, 0, -1, -1],\n",
    "    [-1, -1, -1, 3, 8, -1, 9, 0, -1],\n",
    "    [-1, -1, -1, -1, -1, 2, -1, -1, 0]\n",
    "]\n",
    "\n",
    "visited=[False]*len(graph)\n",
    "min_edge=float('inf')\n",
    "x=y=-1\n",
    "\n",
    "for i in range(len(graph)):\n",
    "    for j in range(len(graph[i])):\n",
    "        if graph[i][j] == 0 or graph[i][j] == -1 or visited[i]== True:\n",
    "            continue\n",
    "        elif min_edge > graph[i][j]:\n",
    "            min_edge = graph[i][j]\n",
    "            x = i\n",
    "            y = j\n",
    "\n",
    "print(x + 1, y + 1, min_edge)  \n",
    "visited[x] = True\n",
    "visited[y] = True\n",
    "mst = []\n",
    "mst.append((x + 1, y + 1, min_edge))\n",
    "\n",
    "while False in visited:\n",
    "    min_edge = float('inf')  \n",
    "    for i in range(len(visited)):\n",
    "        if visited[i]:\n",
    "            for j in range(len(graph[i])):\n",
    "                if graph[i][j] == 0 or graph[i][j] == -1 or visited[j]:\n",
    "                    continue\n",
    "                elif min_edge > graph[i][j]:\n",
    "                    min_edge = graph[i][j]\n",
    "                    x = i\n",
    "                    y = j\n",
    "    visited[y] = True\n",
    "    mst.append((x + 1, y + 1, min_edge))\n",
    "    "
   ]
  },
  {
   "cell_type": "code",
   "execution_count": 10,
   "id": "119e70b9",
   "metadata": {},
   "outputs": [
    {
     "name": "stdout",
     "output_type": "stream",
     "text": [
      "0\n",
      "0\n",
      "0\n",
      "0\n",
      "0\n",
      "[0]\n"
     ]
    }
   ],
   "source": [
    "class Node:\n",
    "    def __init__(self,data):\n",
    "        self.val = data\n",
    "        self.next= None\n",
    "\n",
    "def insert(node,n):\n",
    "    temp = Node(n)\n",
    "    if node== None:\n",
    "        node=temp\n",
    "        return node\n",
    "    else:\n",
    "        temp.next=node\n",
    "        node = temp\n",
    "        return node\n",
    "\n",
    "def display(node):\n",
    "    while node!=None:\n",
    "        print(node.val)\n",
    "        node=node.next\n",
    "        \n",
    "def collection():\n",
    "    node=None\n",
    "    ls=list(map(int,input().split()))\n",
    "    for i in range(len(ls)):\n",
    "        node=insert(node,ls.pop()) \n",
    "    return node\n",
    "\n",
    "def solution(no):\n",
    "    ls=[]\n",
    "    while no != None:\n",
    "        ls.append(str(no.val))\n",
    "        no= no.next\n",
    "    return int(''.join(ls))\n",
    "        \n",
    "n1=collection()\n",
    "n2=collection()\n",
    "display(n1)\n",
    "display(n2)\n",
    "\n",
    "lst1=solution(n1)\n",
    "lst2=solution(n2)\n",
    "final = lst1+lst2\n",
    "print(final)\n",
    "ls =[int(i) for i in str(final)[::-1]]\n",
    "print(ls)"
   ]
  },
  {
   "cell_type": "code",
   "execution_count": null,
   "id": "d4a45eb6",
   "metadata": {},
   "outputs": [],
   "source": []
  }
 ],
 "metadata": {
  "kernelspec": {
   "display_name": "Python 3 (ipykernel)",
   "language": "python",
   "name": "python3"
  },
  "language_info": {
   "codemirror_mode": {
    "name": "ipython",
    "version": 3
   },
   "file_extension": ".py",
   "mimetype": "text/x-python",
   "name": "python",
   "nbconvert_exporter": "python",
   "pygments_lexer": "ipython3",
   "version": "3.11.5"
  },
  "varInspector": {
   "cols": {
    "lenName": 16,
    "lenType": 16,
    "lenVar": 40
   },
   "kernels_config": {
    "python": {
     "delete_cmd_postfix": "",
     "delete_cmd_prefix": "del ",
     "library": "var_list.py",
     "varRefreshCmd": "print(var_dic_list())"
    },
    "r": {
     "delete_cmd_postfix": ") ",
     "delete_cmd_prefix": "rm(",
     "library": "var_list.r",
     "varRefreshCmd": "cat(var_dic_list()) "
    }
   },
   "types_to_exclude": [
    "module",
    "function",
    "builtin_function_or_method",
    "instance",
    "_Feature"
   ],
   "window_display": false
  }
 },
 "nbformat": 4,
 "nbformat_minor": 5
}
