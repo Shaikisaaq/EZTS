{
 "cells": [
  {
   "cell_type": "markdown",
   "id": "e9f3fcb2",
   "metadata": {},
   "source": [
    "### Greedy Algorithm"
   ]
  },
  {
   "cell_type": "code",
   "execution_count": 11,
   "id": "66666421",
   "metadata": {},
   "outputs": [
    {
     "name": "stdout",
     "output_type": "stream",
     "text": [
      "{0: 5.0, 1: 2.0, 2: 1.0, 3: 3.0, 4: 9.0, 5: 2.4, 6: 4.0, 7: 5.0, 8: 2.5}\n",
      "{4: 9.0, 0: 5.0, 7: 5.0, 6: 4.0, 3: 3.0, 8: 2.5, 5: 2.4, 1: 2.0, 2: 1.0}\n",
      "5.0\n"
     ]
    }
   ],
   "source": [
    "#knapsack problem \n",
    "p=[20,10,6,9,18,12,16,30,15]\n",
    "w=[4,5,6,3,2,5,4,6,6]\n",
    "\n",
    "dic={j:p[i]/w[i]for j,i in enumerate(range(0,len(p)))}\n",
    "s=0\n",
    "total=30\n",
    "ls=[]\n",
    "print(dic)\n",
    "val = dict(sorted(dic.items(), key=lambda item: item[1],reverse=True))\n",
    "print(sorted_data)\n",
    "#while total<0:\n",
    "i=val\n",
    "\n",
    "print(i)"
   ]
  },
  {
   "cell_type": "code",
   "execution_count": 6,
   "id": "405ec4f7",
   "metadata": {},
   "outputs": [
    {
     "name": "stdout",
     "output_type": "stream",
     "text": [
      "[1, 2, 5]\n"
     ]
    }
   ],
   "source": [
    "dic={'i':1,'j':5,'r':2}\n",
    "print(sorted(dic.values()))"
   ]
  },
  {
   "cell_type": "code",
   "execution_count": null,
   "id": "d468fbf7",
   "metadata": {},
   "outputs": [],
   "source": []
  }
 ],
 "metadata": {
  "kernelspec": {
   "display_name": "Python 3 (ipykernel)",
   "language": "python",
   "name": "python3"
  },
  "language_info": {
   "codemirror_mode": {
    "name": "ipython",
    "version": 3
   },
   "file_extension": ".py",
   "mimetype": "text/x-python",
   "name": "python",
   "nbconvert_exporter": "python",
   "pygments_lexer": "ipython3",
   "version": "3.11.5"
  },
  "varInspector": {
   "cols": {
    "lenName": 16,
    "lenType": 16,
    "lenVar": 40
   },
   "kernels_config": {
    "python": {
     "delete_cmd_postfix": "",
     "delete_cmd_prefix": "del ",
     "library": "var_list.py",
     "varRefreshCmd": "print(var_dic_list())"
    },
    "r": {
     "delete_cmd_postfix": ") ",
     "delete_cmd_prefix": "rm(",
     "library": "var_list.r",
     "varRefreshCmd": "cat(var_dic_list()) "
    }
   },
   "types_to_exclude": [
    "module",
    "function",
    "builtin_function_or_method",
    "instance",
    "_Feature"
   ],
   "window_display": false
  }
 },
 "nbformat": 4,
 "nbformat_minor": 5
}
