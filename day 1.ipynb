{
 "cells": [
  {
   "cell_type": "code",
   "execution_count": 1,
   "id": "8fbdd913",
   "metadata": {},
   "outputs": [
    {
     "name": "stdout",
     "output_type": "stream",
     "text": [
      "0\n",
      "30\n",
      "30\n",
      "2\n",
      "40\n",
      "-11\n",
      "-3\n"
     ]
    }
   ],
   "source": [
    "a =10\n",
    "b=20\n",
    "print(a&b)\n",
    "print(a|b)\n",
    "print(a^b)\n",
    "a =10\n",
    "b=2\n",
    "print(a>>b) # a//2^b\n",
    "print(a<<b) # a*2^b\n",
    "print(~a)\n",
    "print(~b)"
   ]
  },
  {
   "cell_type": "code",
   "execution_count": 2,
   "id": "68d78ea9",
   "metadata": {},
   "outputs": [
    {
     "data": {
      "text/plain": [
       "18"
      ]
     },
     "execution_count": 2,
     "metadata": {},
     "output_type": "execute_result"
    }
   ],
   "source": [
    "55//3"
   ]
  },
  {
   "cell_type": "code",
   "execution_count": 3,
   "id": "c4a0eb17",
   "metadata": {},
   "outputs": [
    {
     "data": {
      "text/plain": [
       "9.0"
      ]
     },
     "execution_count": 3,
     "metadata": {},
     "output_type": "execute_result"
    }
   ],
   "source": [
    "18/2\n"
   ]
  },
  {
   "cell_type": "code",
   "execution_count": 5,
   "id": "1640b03f",
   "metadata": {},
   "outputs": [
    {
     "data": {
      "text/plain": [
       "4.0"
      ]
     },
     "execution_count": 5,
     "metadata": {},
     "output_type": "execute_result"
    }
   ],
   "source": [
    "9.0%5\n"
   ]
  },
  {
   "cell_type": "code",
   "execution_count": 6,
   "id": "e8b89d7f",
   "metadata": {},
   "outputs": [
    {
     "name": "stdout",
     "output_type": "stream",
     "text": [
      "False\n"
     ]
    }
   ],
   "source": [
    "a=10\n",
    "b=20\n",
    "print(a is b)"
   ]
  },
  {
   "cell_type": "code",
   "execution_count": 15,
   "id": "25484fe1",
   "metadata": {},
   "outputs": [
    {
     "name": "stdout",
     "output_type": "stream",
     "text": [
      "5\n",
      "buzz\n"
     ]
    }
   ],
   "source": [
    "i=int(input())\n",
    "if i%3==0 and i%5==0 :\n",
    "    print('fizzbuzz')\n",
    "elif i%3==0:\n",
    "    print('fizz')\n",
    "elif i%5==0:\n",
    "    print('buzz')"
   ]
  },
  {
   "cell_type": "markdown",
   "id": "9354a7de",
   "metadata": {},
   "source": [
    "### Adam's number program\n"
   ]
  },
  {
   "cell_type": "code",
   "execution_count": 29,
   "id": "9951efe4",
   "metadata": {},
   "outputs": [
    {
     "name": "stdout",
     "output_type": "stream",
     "text": [
      "12\n",
      "the number is Adam's number\n"
     ]
    }
   ],
   "source": [
    "square =lambda n: n*n\n",
    "rev = lambda n: int(str(n)[::-1])\n",
    "i = int(input()) \n",
    "print(\"the number is Adam's number\") if rev(square(rev(i))) == square(i) else print(\"the number is not Adnan' number\")   \n",
    "        \n",
    "\n",
    "        \n"
   ]
  },
  {
   "cell_type": "code",
   "execution_count": null,
   "id": "4c5cc0c7",
   "metadata": {},
   "outputs": [],
   "source": []
  }
 ],
 "metadata": {
  "kernelspec": {
   "display_name": "Python 3 (ipykernel)",
   "language": "python",
   "name": "python3"
  },
  "language_info": {
   "codemirror_mode": {
    "name": "ipython",
    "version": 3
   },
   "file_extension": ".py",
   "mimetype": "text/x-python",
   "name": "python",
   "nbconvert_exporter": "python",
   "pygments_lexer": "ipython3",
   "version": "3.11.5"
  },
  "varInspector": {
   "cols": {
    "lenName": 16,
    "lenType": 16,
    "lenVar": 40
   },
   "kernels_config": {
    "python": {
     "delete_cmd_postfix": "",
     "delete_cmd_prefix": "del ",
     "library": "var_list.py",
     "varRefreshCmd": "print(var_dic_list())"
    },
    "r": {
     "delete_cmd_postfix": ") ",
     "delete_cmd_prefix": "rm(",
     "library": "var_list.r",
     "varRefreshCmd": "cat(var_dic_list()) "
    }
   },
   "types_to_exclude": [
    "module",
    "function",
    "builtin_function_or_method",
    "instance",
    "_Feature"
   ],
   "window_display": false
  }
 },
 "nbformat": 4,
 "nbformat_minor": 5
}
