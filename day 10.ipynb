{
 "cells": [
  {
   "cell_type": "code",
   "execution_count": 6,
   "id": "d75376e7",
   "metadata": {},
   "outputs": [
    {
     "name": "stdout",
     "output_type": "stream",
     "text": [
      "[1, 2, 3, 4, 5, 6, 7, 8]\n"
     ]
    }
   ],
   "source": [
    "ls=[(1, 2, 0), (1, 3, 0), (2, 1, 0), (2, 7, 0), (3, 1, 0), (3, 5, 0),\n",
    "    (3, 6, 0), (4, 7, 0), (4, 8, 0), (5, 3, 0), (5, 7, 0), (6, 3, 0),\n",
    "    (6, 8, 0), (7, 2, 0), (7, 4,  0), (7, 5, 0), (8, 4, 0), (8, 6, 0)]\n",
    "node=[]\n",
    "for i in ls: \n",
    "    if i[0] not in  node:\n",
    "        node.append(i[0])\n",
    "print(node)"
   ]
  },
  {
   "cell_type": "code",
   "execution_count": 8,
   "id": "36e05710",
   "metadata": {},
   "outputs": [
    {
     "name": "stdout",
     "output_type": "stream",
     "text": [
      "{1: [(1, 2, 0), (1, 3, 0)], 2: [(2, 1, 0), (2, 7, 0)], 3: [(3, 1, 0), (3, 5, 0), (3, 6, 0)], 4: [(4, 7, 0), (4, 8, 0)], 5: [(5, 3, 0), (5, 7, 0)], 6: [(6, 3, 0), (6, 8, 0)], 7: [(7, 2, 0), (7, 4, 0), (7, 5, 0)], 8: [(8, 4, 0), (8, 6, 0)]}\n"
     ]
    }
   ],
   "source": [
    "dic={}\n",
    "for i in node:\n",
    "    temp =[]\n",
    "    for j in ls:\n",
    "        if i==j[0]:\n",
    "            temp.append(j)\n",
    "            dic[i]= temp            \n",
    "print(dic)"
   ]
  },
  {
   "cell_type": "code",
   "execution_count": 2,
   "id": "32b85194",
   "metadata": {},
   "outputs": [
    {
     "name": "stdout",
     "output_type": "stream",
     "text": [
      "[1, 2, 3, 4, 5, 6, 7, 8, 9, 10, 11, 12, 13]\n"
     ]
    }
   ],
   "source": [
    "l1= [(1, 2, 0),(1, 3, 0),(2, 1, 0),(2, 5, 0),(3, 4, 0),(3, 6, 0),(4, 3, 0),\n",
    " (5, 2, 0),(5, 7, 0),(5, 10, 0),(5, 13, 0),(6, 3, 0),(6, 7, 0),(7, 5, 0),\n",
    " (7, 6, 0),(7, 8, 0),(7, 9, 0),(8, 7, 0),(9, 7, 0),(9, 12, 0),(10, 5, 0),\n",
    " (10, 11, 0),(11, 10, 0),(12, 9, 0),(12, 13, 0),(13, 5, 0),(13, 12, 0)]\n",
    "\n",
    "node=[]\n",
    "for i in l1: \n",
    "    if i[0] not in  node:\n",
    "        node.append(i[0])\n",
    "print(node)"
   ]
  },
  {
   "cell_type": "code",
   "execution_count": 3,
   "id": "454c22d7",
   "metadata": {},
   "outputs": [
    {
     "name": "stdout",
     "output_type": "stream",
     "text": [
      "{1: [(1, 2, 0), (1, 3, 0)], 2: [(2, 1, 0), (2, 5, 0)], 3: [(3, 4, 0), (3, 6, 0)], 4: [(4, 3, 0)], 5: [(5, 2, 0), (5, 7, 0), (5, 10, 0), (5, 13, 0)], 6: [(6, 3, 0), (6, 7, 0)], 7: [(7, 5, 0), (7, 6, 0), (7, 8, 0), (7, 9, 0)], 8: [(8, 7, 0)], 9: [(9, 7, 0), (9, 12, 0)], 10: [(10, 5, 0), (10, 11, 0)], 11: [(11, 10, 0)], 12: [(12, 9, 0), (12, 13, 0)], 13: [(13, 5, 0), (13, 12, 0)]}\n"
     ]
    }
   ],
   "source": [
    "dic={}\n",
    "for i in node:\n",
    "    temp =[]\n",
    "    for j in l1:\n",
    "        if i==j[0]:\n",
    "            temp.append(j)\n",
    "            dic[i]= temp            \n",
    "print(dic)"
   ]
  },
  {
   "cell_type": "markdown",
   "id": "605d2b3d",
   "metadata": {},
   "source": [
    "## Graph Traversing \n"
   ]
  },
  {
   "cell_type": "markdown",
   "id": "7801429a",
   "metadata": {},
   "source": [
    "## DFS"
   ]
  },
  {
   "cell_type": "code",
   "execution_count": 4,
   "id": "85951ec1",
   "metadata": {},
   "outputs": [
    {
     "name": "stdout",
     "output_type": "stream",
     "text": [
      "enter the node to traverse: 1\n",
      "4 3 6 8 13 12 9 7 11 10 5 2 1 "
     ]
    }
   ],
   "source": [
    "# dfs\n",
    "\n",
    "l= {1: [(1, 2, 0), (1, 3, 0)], 2: [(2, 1, 0), (2, 5, 0)], 3: [(3, 4, 0), \n",
    "        (3, 6, 0)], 4: [(4, 3, 0)], 5: [(5, 2, 0), (5, 7, 0), (5, 10, 0),\n",
    "        (5, 13, 0)], 6: [(6, 3, 0), (6, 7, 0)], 7: [(7, 5, 0), (7, 6, 0), \n",
    "        (7, 8, 0), (7, 9, 0)], 8: [(8, 7, 0)], 9: [(9, 7, 0), (9, 12, 0)], \n",
    "        10: [(10, 5, 0), (10, 11, 0)], 11: [(11, 10, 0)], 12: [(12, 9, 0), \n",
    "        (12, 13, 0)], 13: [(13, 5, 0), (13, 12, 0)]}\n",
    "\n",
    "\n",
    "def dfs(l,v,s,e):\n",
    "    if v[e]==False:\n",
    "        s.append(e)\n",
    "        v[e]=True\n",
    "    else:\n",
    "        return\n",
    "    for i in l[e]:\n",
    "        dfs(l,v,s,i[1])\n",
    "    print(s.pop(),end=' ')\n",
    "    \n",
    "if __name__ == \"__main__\":\n",
    "    v={}\n",
    "    for i in node:\n",
    "        v[i]=False\n",
    "    n= int(input('enter the node to traverse: '))\n",
    "    s=[]\n",
    "    dfs(l,v,s,n)"
   ]
  },
  {
   "cell_type": "markdown",
   "id": "0f0dbd60",
   "metadata": {},
   "source": [
    "## bfs"
   ]
  },
  {
   "cell_type": "code",
   "execution_count": 5,
   "id": "f2952fcc",
   "metadata": {},
   "outputs": [
    {
     "name": "stdout",
     "output_type": "stream",
     "text": [
      "enter the node to traverse: 1\n",
      "1 2 3 5 4 6 7 10 13 8 9 11 12 "
     ]
    }
   ],
   "source": [
    "def bfs(g,e):\n",
    "    q=[e]\n",
    "    v={}\n",
    "    for i in g.keys():\n",
    "        v[i]=False\n",
    "    v[e]=True\n",
    "    while len(q) != 0:\n",
    "        curr =q.pop(0)\n",
    "        print(curr,end=\" \")\n",
    "        for i in g[curr]:\n",
    "            if v[i[1]]==False:\n",
    "                q.append(i[1])\n",
    "                v[i[1]]=True\n",
    "                \n",
    "                \n",
    "G={1: [(1, 2, 0), (1, 3, 0)], 2: [(2, 1, 0), (2, 5, 0)], 3: [(3, 4, 0), \n",
    "        (3, 6, 0)], 4: [(4, 3, 0)], 5: [(5, 2, 0), (5, 7, 0), (5, 10, 0),\n",
    "        (5, 13, 0)], 6: [(6, 3, 0), (6, 7, 0)], 7: [(7, 5, 0), (7, 6, 0), \n",
    "        (7, 8, 0), (7, 9, 0)], 8: [(8, 7, 0)], 9: [(9, 7, 0), (9, 12, 0)], \n",
    "        10: [(10, 5, 0), (10, 11, 0)], 11: [(11, 10, 0)], 12: [(12, 9, 0), \n",
    "        (12, 13, 0)], 13: [(13, 5, 0), (13, 12, 0)]}\n",
    "n = int(input('enter the node to traverse: '))\n",
    "bfs(G,n)"
   ]
  },
  {
   "cell_type": "markdown",
   "id": "88fea122",
   "metadata": {},
   "source": [
    "## Binary search tree\n"
   ]
  },
  {
   "cell_type": "code",
   "execution_count": 22,
   "id": "b4a91b4b",
   "metadata": {},
   "outputs": [
    {
     "name": "stdout",
     "output_type": "stream",
     "text": [
      "4 6 7 3 8 2 5 9 1\n",
      "1 2 3 4 5 6 7 8 9 "
     ]
    }
   ],
   "source": [
    "class Node:\n",
    "    def __init__(self,data):\n",
    "        self.value=data\n",
    "        self.right=None\n",
    "        self.left=None\n",
    "\n",
    "def inorder(root):\n",
    "    if root == None:\n",
    "        return\n",
    "    inorder(root.left)\n",
    "    print(root.value,end=' ')\n",
    "    inorder(root.right)\n",
    "\n",
    "\n",
    "def bst(root,val):\n",
    "    if root==None :\n",
    "        root = Node(val)\n",
    "        return root\n",
    "    if  val<root.value:\n",
    "        root.left=bst(root.left,val)\n",
    "    else:\n",
    "        root.right=bst(root.right,val)\n",
    "    return root\n",
    "    \n",
    "    \n",
    "if __name__ == \"__main__\":\n",
    "    n= list(map(int,input().split()))\n",
    "    node = Node(n[0])\n",
    "    for i in range(1,len(n)):\n",
    "        node=bst(node,n[i])\n",
    "    inorder(node)\n",
    "        "
   ]
  },
  {
   "cell_type": "code",
   "execution_count": null,
   "id": "b87b35b7",
   "metadata": {},
   "outputs": [],
   "source": [
    "4 6 7 3 8 2 5 9 1r"
   ]
  }
 ],
 "metadata": {
  "kernelspec": {
   "display_name": "Python 3 (ipykernel)",
   "language": "python",
   "name": "python3"
  },
  "language_info": {
   "codemirror_mode": {
    "name": "ipython",
    "version": 3
   },
   "file_extension": ".py",
   "mimetype": "text/x-python",
   "name": "python",
   "nbconvert_exporter": "python",
   "pygments_lexer": "ipython3",
   "version": "3.11.5"
  },
  "varInspector": {
   "cols": {
    "lenName": 16,
    "lenType": 16,
    "lenVar": 40
   },
   "kernels_config": {
    "python": {
     "delete_cmd_postfix": "",
     "delete_cmd_prefix": "del ",
     "library": "var_list.py",
     "varRefreshCmd": "print(var_dic_list())"
    },
    "r": {
     "delete_cmd_postfix": ") ",
     "delete_cmd_prefix": "rm(",
     "library": "var_list.r",
     "varRefreshCmd": "cat(var_dic_list()) "
    }
   },
   "types_to_exclude": [
    "module",
    "function",
    "builtin_function_or_method",
    "instance",
    "_Feature"
   ],
   "window_display": false
  }
 },
 "nbformat": 4,
 "nbformat_minor": 5
}
