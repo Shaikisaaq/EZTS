{
 "cells": [
  {
   "cell_type": "code",
   "execution_count": 8,
   "id": "7b76e5f5",
   "metadata": {},
   "outputs": [
    {
     "name": "stdout",
     "output_type": "stream",
     "text": [
      "12\n",
      "3\n",
      "the number is harsad number\n"
     ]
    }
   ],
   "source": [
    "# harshad number \n",
    "n=int(input())\n",
    "val=n\n",
    "sum=0\n",
    "rem=0\n",
    "while val!=0:\n",
    "    rem= val % 10\n",
    "    sum+=rem\n",
    "    val//=10\n",
    "    \n",
    "if n % sum ==0:\n",
    "    print(\"the number is harsad number\")\n",
    "else:\n",
    "    print('the number is not harshad number')"
   ]
  },
  {
   "cell_type": "code",
   "execution_count": 6,
   "id": "4d018b81",
   "metadata": {},
   "outputs": [
    {
     "name": "stdout",
     "output_type": "stream",
     "text": [
      "123\n",
      "the number is not harshad number\n"
     ]
    }
   ],
   "source": [
    "# harshad number \n",
    "n=i nput()\n",
    "dig_sum = lambda x : eval('+'.join([i for i in x]))   \n",
    "print(\"the number is harsad number\") if int(dig_sum(n)) % int(n) ==0 else print('the number is not harshad number')"
   ]
  },
  {
   "cell_type": "code",
   "execution_count": 2,
   "id": "3e19b603",
   "metadata": {},
   "outputs": [
    {
     "name": "stdout",
     "output_type": "stream",
     "text": [
      "19\n",
      "the number is happy number\n"
     ]
    }
   ],
   "source": [
    "# happy number\n",
    "square = lambda x: x*x\n",
    "def s(val):\n",
    "    sum=0\n",
    "    rem=0\n",
    "    while val!=0:\n",
    "        rem= val % 10\n",
    "        sum+=square(rem)\n",
    "        val//=10\n",
    "    return sum\n",
    "N= int(input())\n",
    "while True:\n",
    "    N=s(N)\n",
    "    if N == 1:\n",
    "        print('the number is happy number')\n",
    "        break\n",
    "    if N != 1 and 1<N<10:\n",
    "        print('the number is not happy number')\n",
    "        break\n"
   ]
  },
  {
   "cell_type": "code",
   "execution_count": 5,
   "id": "0756ff9f",
   "metadata": {},
   "outputs": [
    {
     "name": "stdout",
     "output_type": "stream",
     "text": [
      "123\n",
      "6\n"
     ]
    }
   ],
   "source": [
    "print(eval('+'.join([i for i in input()])))"
   ]
  },
  {
   "cell_type": "code",
   "execution_count": 7,
   "id": "f00b28a8",
   "metadata": {},
   "outputs": [
    {
     "name": "stdout",
     "output_type": "stream",
     "text": [
      "3 4 3 4 "
     ]
    }
   ],
   "source": [
    "a=[1,2,3,4,5]\n",
    "for i in range(1,4):\n",
    "    a[i-2]=a[i]\n",
    "for i in range(0,4):\n",
    "    print(a[i],end=' ')"
   ]
  },
  {
   "cell_type": "code",
   "execution_count": 8,
   "id": "ff4afa24",
   "metadata": {},
   "outputs": [],
   "source": [
    "# different btw sort and sorted\n"
   ]
  },
  {
   "cell_type": "code",
   "execution_count": 14,
   "id": "659e8dc8",
   "metadata": {},
   "outputs": [
    {
     "data": {
      "text/plain": [
       "[1, 2, 3, 1, 2, 3]"
      ]
     },
     "execution_count": 14,
     "metadata": {},
     "output_type": "execute_result"
    }
   ],
   "source": [
    "[1,2,3]*2\n"
   ]
  },
  {
   "cell_type": "code",
   "execution_count": 17,
   "id": "3bb17f7c",
   "metadata": {},
   "outputs": [
    {
     "name": "stdout",
     "output_type": "stream",
     "text": [
      "[1, 2, 3, 4, 5, 6, 7, 8, 9]\n",
      "[3, 4, 5, 6, 7, 8, 9]\n",
      "[3, 4, 5, 6]\n",
      "[6, 7]\n",
      "[1, 3, 5, 7, 9]\n",
      "[1, 2, 3, 4, 5, 6, 7, 8, 9]\n",
      "[2, 5]\n"
     ]
    }
   ],
   "source": [
    "a=[1,2,3,4,5,6,7,8,9]\n",
    "print(a[:])\n",
    "print(a[2:])\n",
    "print(a[2:6])\n",
    "print(a[-4:-2])\n",
    "print(a[::2])\n",
    "print(a[::1])\n",
    "print(a[1:6:3])"
   ]
  },
  {
   "cell_type": "code",
   "execution_count": 20,
   "id": "c21bfac0",
   "metadata": {},
   "outputs": [
    {
     "name": "stdout",
     "output_type": "stream",
     "text": [
      "1\n",
      "3\n",
      "0\n",
      "[0, -23, -45]\n"
     ]
    }
   ],
   "source": [
    "a=[1,2,3,[2,3,100],[0,-23,-45]]\n",
    "print(a[0])\n",
    "print(a[3][1])\n",
    "print(a[4][0])\n",
    "print(a[4])"
   ]
  },
  {
   "cell_type": "code",
   "execution_count": 22,
   "id": "13126897",
   "metadata": {},
   "outputs": [
    {
     "name": "stdout",
     "output_type": "stream",
     "text": [
      "(0, 0, 2, 0, 4, 0, 6, 0, 8, 0, 10, 0, 12, 0, 14, 0, 16, 0, 18, 0)\n"
     ]
    }
   ],
   "source": [
    "print(tuple(i if i%2==0 else 0 for i in range(20)))"
   ]
  },
  {
   "cell_type": "code",
   "execution_count": 1,
   "id": "8a911642",
   "metadata": {},
   "outputs": [
    {
     "name": "stdout",
     "output_type": "stream",
     "text": [
      "1 2 3 4 5\n",
      "[1, 2, 3, 4, 5]\n"
     ]
    }
   ],
   "source": [
    "print([int(i) for i in input().split()]) "
   ]
  },
  {
   "cell_type": "code",
   "execution_count": 3,
   "id": "f41b634c",
   "metadata": {},
   "outputs": [
    {
     "name": "stdout",
     "output_type": "stream",
     "text": [
      "1 2 3 4 5\n",
      "[1, 2, 3, 4, 5]\n"
     ]
    }
   ],
   "source": [
    "a =list( map(int,input().split()) )\n",
    "print(a)"
   ]
  },
  {
   "cell_type": "code",
   "execution_count": 17,
   "id": "41f62dac",
   "metadata": {},
   "outputs": [
    {
     "name": "stdout",
     "output_type": "stream",
     "text": [
      "1 2 3 43 1 1 1 2 3 54  41 1 1 \n",
      "{1, 2, 3, 41, 43, 54}\n"
     ]
    }
   ],
   "source": [
    "i=input().split()\n",
    "print(set(map(int,i)))"
   ]
  },
  {
   "cell_type": "code",
   "execution_count": 18,
   "id": "34856606",
   "metadata": {},
   "outputs": [
    {
     "name": "stdout",
     "output_type": "stream",
     "text": [
      "{1: 'abc', 2: 'cef', 3: 'ghi'}\n",
      "{1: 'rithvik', 2: 'cef', 3: 'ghi'}\n",
      "ghi\n",
      "ghi\n",
      "{1: 'rithvik', 2: 'cef'}\n"
     ]
    }
   ],
   "source": [
    "a={1:'abc',2:\"cef\",3:\"ghi\"}\n",
    "print(a)\n",
    "a[1]='rithvik'\n",
    "print(a)\n",
    "print(a.get(3))\n",
    "print(a[3])\n",
    "del(a[3])\n",
    "print(a)"
   ]
  },
  {
   "cell_type": "code",
   "execution_count": 21,
   "id": "6fdaa7fa",
   "metadata": {},
   "outputs": [
    {
     "name": "stdout",
     "output_type": "stream",
     "text": [
      "{1: 'abc', 2: 'abc'}\n"
     ]
    }
   ],
   "source": [
    "print(dict.fromkeys(a,'abc'))"
   ]
  },
  {
   "cell_type": "code",
   "execution_count": 25,
   "id": "d7f4a31f",
   "metadata": {},
   "outputs": [
    {
     "name": "stdout",
     "output_type": "stream",
     "text": [
      "2\n",
      "4\n"
     ]
    }
   ],
   "source": [
    "e={1:2,3:4,5:6}\n",
    "print(e.setdefault(1))\n",
    "print(e.setdefault(3))"
   ]
  },
  {
   "cell_type": "code",
   "execution_count": 1,
   "id": "a1f697b7",
   "metadata": {},
   "outputs": [
    {
     "ename": "SyntaxError",
     "evalue": "invalid syntax (1688035659.py, line 1)",
     "output_type": "error",
     "traceback": [
      "\u001b[1;36m  Cell \u001b[1;32mIn[1], line 1\u001b[1;36m\u001b[0m\n\u001b[1;33m    https://onlinegdb.com/Tzis4k14v\u001b[0m\n\u001b[1;37m          ^\u001b[0m\n\u001b[1;31mSyntaxError\u001b[0m\u001b[1;31m:\u001b[0m invalid syntax\n"
     ]
    }
   ],
   "source": [
    "https://onlinegdb.com/Tzis4k14v"
   ]
  },
  {
   "cell_type": "code",
   "execution_count": null,
   "id": "c268aef4",
   "metadata": {},
   "outputs": [],
   "source": [
    "ls = input()\n",
    "for i in ls:\n",
    "    if i.isspace():\n",
    "        print(\"space\",\"|\",i,\"|\")\n",
    "        print()"
   ]
  },
  {
   "cell_type": "code",
   "execution_count": null,
   "id": "056c1de7",
   "metadata": {},
   "outputs": [],
   "source": []
  }
 ],
 "metadata": {
  "kernelspec": {
   "display_name": "Python 3 (ipykernel)",
   "language": "python",
   "name": "python3"
  },
  "language_info": {
   "codemirror_mode": {
    "name": "ipython",
    "version": 3
   },
   "file_extension": ".py",
   "mimetype": "text/x-python",
   "name": "python",
   "nbconvert_exporter": "python",
   "pygments_lexer": "ipython3",
   "version": "3.11.5"
  },
  "varInspector": {
   "cols": {
    "lenName": 16,
    "lenType": 16,
    "lenVar": 40
   },
   "kernels_config": {
    "python": {
     "delete_cmd_postfix": "",
     "delete_cmd_prefix": "del ",
     "library": "var_list.py",
     "varRefreshCmd": "print(var_dic_list())"
    },
    "r": {
     "delete_cmd_postfix": ") ",
     "delete_cmd_prefix": "rm(",
     "library": "var_list.r",
     "varRefreshCmd": "cat(var_dic_list()) "
    }
   },
   "types_to_exclude": [
    "module",
    "function",
    "builtin_function_or_method",
    "instance",
    "_Feature"
   ],
   "window_display": false
  }
 },
 "nbformat": 4,
 "nbformat_minor": 5
}
