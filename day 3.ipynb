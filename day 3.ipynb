{
 "cells": [
  {
   "cell_type": "code",
   "execution_count": 60,
   "id": "4983b607",
   "metadata": {},
   "outputs": [
    {
     "name": "stdout",
     "output_type": "stream",
     "text": [
      "{'b': {'name': 'bat', 'condition': 'good', 'status': 'A'}, 'f': {'name': 'football', 'condition': 'good', 'status': 'U'}, 'in': {'name': 'indra', 'condition': 'good', 'status': 'A'}, 'p': {'name': 'ganesh', 'condition': 'good', 'status': 'A'}}\n",
      "enter the equipment id: p\n",
      "enter the name of the equipment:op\n",
      "\n"
     ]
    }
   ],
   "source": [
    "import sys\n",
    "import json\n",
    "class operations:\n",
    "    def __init__(self):\n",
    "        with open('dic.json', 'r') as json_file:\n",
    "            self.dic= json.load(json_file)\n",
    "        \n",
    "    \n",
    "    def insert(self):\n",
    "        self.i=input(\"enter the equipment id: \")\n",
    "        \n",
    "        self.dic[self.i]={'name':input('enter the name of the equipment:'),\n",
    "                          \"condition\":'good','status':'A'}\n",
    "        print()\n",
    "        with open('dic.json', 'w') as json_file:\n",
    "            json.dump(self.dic, json_file)\n",
    "        \n",
    "    def printvalues(self):\n",
    "        k = input('enter the id number :')\n",
    "        if k in self.dic:\n",
    "            self.val = self.dic[k]\n",
    "            j=0\n",
    "            for a,b in self.val.items(): \n",
    "                j+=1\n",
    "                print(f\"{j}) {a}  {b}\")\n",
    "        else:\n",
    "            print('no record found')\n",
    "            sys.exit()\n",
    "    \n",
    "        \n",
    "    def update(self):\n",
    "        self.n=input('enter the id to update:')\n",
    "        self.printvalues(self.n)\n",
    "        num=input(\"enter the number to update :\")\n",
    "        if num=='2':\n",
    "            con=input('enter the condition :')\n",
    "            self.dic[self.n]['condition']=con\n",
    "        if num == '3':\n",
    "            st=input('enter the status :')\n",
    "            self.dic[self.n]['status']=st\n",
    "        with open('dic.json', 'w') as json_file:\n",
    "            json.dump(self.dic, json_file)\n",
    "        return   \n",
    "    def delete(self) :\n",
    "        self.id= input('enter the id to delete :')\n",
    "        del self.dic[self.id]\n",
    "        with open('dic.json', 'w') as json_file:\n",
    "            json.dump(self.dic, json_file)\n",
    "       \n",
    "\n",
    "t= operations()\n",
    "print(t.dic)\n",
    "t.insert()"
   ]
  },
  {
   "cell_type": "code",
   "execution_count": 4,
   "id": "2d761ff7",
   "metadata": {},
   "outputs": [],
   "source": [
    "class student:\n",
    "    stdic={'123':{'name':'indra','sem':'6th'},\n",
    "           '456':{'name':'rithvik'}\n",
    "        \n",
    "          }\n",
    "    "
   ]
  },
  {
   "cell_type": "code",
   "execution_count": 11,
   "id": "e134acc2",
   "metadata": {},
   "outputs": [
    {
     "name": "stdout",
     "output_type": "stream",
     "text": [
      "{'f': {'name': 'football', 'condition': 'good', 'status': 'U'}}\n"
     ]
    }
   ],
   "source": [
    "dic={'b':{\"name\":\"bat\",\"condition\":'good','status':'A'},\n",
    "     'f':{'name':'football','condition':'good','status':'U'}\n",
    "    }\n",
    "del dic['b']\n",
    "print(dic)"
   ]
  },
  {
   "cell_type": "code",
   "execution_count": 39,
   "id": "ba79c87c",
   "metadata": {},
   "outputs": [],
   "source": [
    "with open('file.txt','w') as f:\n",
    "    f.write('hello world\\n ')\n",
    "    f.write('iam currently in bellary \\ng')\n",
    "    f.write('iam taking super coder batch')\n",
    "    "
   ]
  },
  {
   "cell_type": "code",
   "execution_count": 40,
   "id": "45158318",
   "metadata": {},
   "outputs": [
    {
     "name": "stdout",
     "output_type": "stream",
     "text": [
      "hello world\n",
      " iam currently in bellary \n",
      "giam taking super coder batch\n"
     ]
    }
   ],
   "source": [
    "with open('file.txt','r') as f:\n",
    "    print(f.read())\n",
    "    \n",
    "    \n"
   ]
  },
  {
   "cell_type": "code",
   "execution_count": 48,
   "id": "36cc8e1d",
   "metadata": {},
   "outputs": [
    {
     "name": "stdout",
     "output_type": "stream",
     "text": [
      "hello world\n",
      " iam currently inbitm \n",
      "giam taking super coder batch\n"
     ]
    }
   ],
   "source": [
    "with open('file.txt',\"r\") as f:\n",
    "    st =str(f.read())\n",
    "st=st.replace(' bellary','bitm')\n",
    "print(st)\n",
    "with open('file.txt','w') as f:\n",
    "    f.write(st)\n",
    "    "
   ]
  },
  {
   "cell_type": "raw",
   "id": "13a7e705",
   "metadata": {},
   "source": [
    "# NO doubt sir \n"
   ]
  },
  {
   "cell_type": "code",
   "execution_count": 49,
   "id": "80a5cfeb",
   "metadata": {},
   "outputs": [],
   "source": [
    "import json\n",
    "dic={'b':{\"name\":\"bat\",\"condition\":'good','status':'A'},\n",
    "     'f':{'name':'football','condition':'good','status':'U'}\n",
    "}\n",
    "with open('dic.json', 'w') as json_file:\n",
    "        json.dump(dic, json_file)"
   ]
  },
  {
   "cell_type": "code",
   "execution_count": 51,
   "id": "91d2139e",
   "metadata": {},
   "outputs": [
    {
     "name": "stdout",
     "output_type": "stream",
     "text": [
      "{'b': {'name': 'bat', 'condition': 'good', 'status': 'A'}, 'f': {'name': 'football', 'condition': 'good', 'status': 'U'}}\n"
     ]
    }
   ],
   "source": [
    "with open('dic.json', 'r') as json_file:\n",
    "    dic= json.load(json_file)\n",
    "print(dic)"
   ]
  },
  {
   "cell_type": "code",
   "execution_count": null,
   "id": "3e9d4e49",
   "metadata": {},
   "outputs": [],
   "source": []
  }
 ],
 "metadata": {
  "kernelspec": {
   "display_name": "Python 3 (ipykernel)",
   "language": "python",
   "name": "python3"
  },
  "language_info": {
   "codemirror_mode": {
    "name": "ipython",
    "version": 3
   },
   "file_extension": ".py",
   "mimetype": "text/x-python",
   "name": "python",
   "nbconvert_exporter": "python",
   "pygments_lexer": "ipython3",
   "version": "3.11.5"
  },
  "varInspector": {
   "cols": {
    "lenName": 16,
    "lenType": 16,
    "lenVar": 40
   },
   "kernels_config": {
    "python": {
     "delete_cmd_postfix": "",
     "delete_cmd_prefix": "del ",
     "library": "var_list.py",
     "varRefreshCmd": "print(var_dic_list())"
    },
    "r": {
     "delete_cmd_postfix": ") ",
     "delete_cmd_prefix": "rm(",
     "library": "var_list.r",
     "varRefreshCmd": "cat(var_dic_list()) "
    }
   },
   "types_to_exclude": [
    "module",
    "function",
    "builtin_function_or_method",
    "instance",
    "_Feature"
   ],
   "window_display": false
  }
 },
 "nbformat": 4,
 "nbformat_minor": 5
}
