{
 "cells": [
  {
   "cell_type": "code",
   "execution_count": 9,
   "id": "19c932c4",
   "metadata": {},
   "outputs": [
    {
     "name": "stdout",
     "output_type": "stream",
     "text": [
      "enter the number of players : 2\n",
      "enter the name of the playerindra\n",
      "shjfoishfo iiiiiii oooooooooo\n",
      "enter the name of the playerrithvik \n",
      "sdlkfj sfoofsofo fssase eeeeee\n",
      "indra o 12\n",
      "rithvik  e 7\n"
     ]
    }
   ],
   "source": [
    "# counting the frequency of vowel in the sentence\n",
    "\n",
    "def c(s):\n",
    "    dic={}\n",
    "    ls = [i for i in s]\n",
    "    dic['a']= ls.count('a')\n",
    "    dic['e']= ls.count('e')\n",
    "    dic['i']= ls.count('i')\n",
    "    dic['o']= ls.count('o')\n",
    "    dic['u']= ls.count('u')\n",
    "    \n",
    "    return dic\n",
    "\n",
    "players={}\n",
    "n=int(input('enter the number of players : '))\n",
    "for i in range(0,n):\n",
    "    name = input('enter the name of the player')\n",
    "    players[name]=input()\n",
    "    \n",
    "for k1,v1 in players.items():\n",
    "    d=c(v1)\n",
    "    m= max(d.values())\n",
    "    for k,v in d.items():\n",
    "        if m == v:\n",
    "            print(k1,k,v)\n",
    "    "
   ]
  },
  {
   "cell_type": "code",
   "execution_count": 45,
   "id": "76e5cd98",
   "metadata": {},
   "outputs": [
    {
     "name": "stdout",
     "output_type": "stream",
     "text": [
      "[4, 6, 7]\n"
     ]
    }
   ],
   "source": [
    "l=[2,4,3,5,6,3,4,6,7,1,2,5]\n",
    "m=0   \n",
    "main=[]\n",
    "for i in range(len(l)-2):\n",
    "    ls=([l[i],l[i+1],l[i+2]])\n",
    "    s=sum(ls)\n",
    "    if s>m:\n",
    "        m=s\n",
    "        main=ls.copy()\n",
    "print(main)"
   ]
  },
  {
   "cell_type": "code",
   "execution_count": 36,
   "id": "d1b67dab",
   "metadata": {},
   "outputs": [
    {
     "name": "stdout",
     "output_type": "stream",
     "text": [
      "enter the card :4\n",
      "1\n",
      "[]\n",
      "7\n",
      "[]\n"
     ]
    }
   ],
   "source": [
    "# cards games\n",
    "\n",
    "ls=[3,4,2,9,3,4,7]\n",
    "n=int(input(\"enter the card :\"))\n",
    "x=ls.index(n)\n",
    "j=1\n",
    "for i in (x,len(ls)):\n",
    "    k=i\n",
    "    print(k)\n",
    "    ls=ls[x+1:k+j]\n",
    "    print(ls)  \n",
    "        print(len(ls))\n",
    "        break\n",
    "    j+=1     "
   ]
  },
  {
   "cell_type": "markdown",
   "id": "0536a2b5",
   "metadata": {},
   "source": [
    "### ls=["
   ]
  },
  {
   "cell_type": "code",
   "execution_count": 38,
   "id": "57177a0a",
   "metadata": {},
   "outputs": [],
   "source": [
    "ls=[3,4,5,3,2,4,2,6,6]\n",
    "dic={}\n",
    "for i in ls:\n",
    "    val = ls.index(i)\n",
    "    c=1\n",
    "    for j in range(val+1,len(ls)):\n",
    "        \n",
    "        "
   ]
  },
  {
   "cell_type": "code",
   "execution_count": null,
   "id": "6285d684",
   "metadata": {},
   "outputs": [],
   "source": []
  }
 ],
 "metadata": {
  "kernelspec": {
   "display_name": "Python 3 (ipykernel)",
   "language": "python",
   "name": "python3"
  },
  "language_info": {
   "codemirror_mode": {
    "name": "ipython",
    "version": 3
   },
   "file_extension": ".py",
   "mimetype": "text/x-python",
   "name": "python",
   "nbconvert_exporter": "python",
   "pygments_lexer": "ipython3",
   "version": "3.11.5"
  },
  "varInspector": {
   "cols": {
    "lenName": 16,
    "lenType": 16,
    "lenVar": 40
   },
   "kernels_config": {
    "python": {
     "delete_cmd_postfix": "",
     "delete_cmd_prefix": "del ",
     "library": "var_list.py",
     "varRefreshCmd": "print(var_dic_list())"
    },
    "r": {
     "delete_cmd_postfix": ") ",
     "delete_cmd_prefix": "rm(",
     "library": "var_list.r",
     "varRefreshCmd": "cat(var_dic_list()) "
    }
   },
   "types_to_exclude": [
    "module",
    "function",
    "builtin_function_or_method",
    "instance",
    "_Feature"
   ],
   "window_display": false
  }
 },
 "nbformat": 4,
 "nbformat_minor": 5
}
