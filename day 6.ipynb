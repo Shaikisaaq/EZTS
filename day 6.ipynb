{
 "cells": [
  {
   "cell_type": "code",
   "execution_count": 9,
   "id": "862fa66c",
   "metadata": {},
   "outputs": [
    {
     "name": "stdout",
     "output_type": "stream",
     "text": [
      "enter the number of players : 2\n",
      "enter the name of the playerindra\n",
      "shjfoishfo iiiiiii oooooooooo\n",
      "enter the name of the playerrithvik \n",
      "sdlkfj sfoofsofo fssase eeeeee\n",
      "indra o 12\n",
      "rithvik  e 7\n"
     ]
    }
   ],
   "source": [
    "# counting the frequency of vowel in the sentence\n",
    "\n",
    "def c(s):\n",
    "    dic={}\n",
    "    ls = [i for i in s]\n",
    "    dic['a']= ls.count('a')\n",
    "    dic['e']= ls.count('e')\n",
    "    dic['i']= ls.count('i')\n",
    "    dic['o']= ls.count('o')\n",
    "    dic['u']= ls.count('u')\n",
    "    \n",
    "    return dic\n",
    "\n",
    "players={}\n",
    "n=int(input('enter the number of players : '))\n",
    "for i in range(0,n):\n",
    "    name = input('enter the name of the player')\n",
    "    players[name]=input()\n",
    "    \n",
    "for k1,v1 in players.items():\n",
    "    d=c(v1)\n",
    "    m= max(d.values())\n",
    "    for k,v in d.items():\n",
    "        if m == v:\n",
    "            print(k1,k,v)\n",
    "    "
   ]
  },
  {
   "cell_type": "code",
   "execution_count": null,
   "id": "0334b16c",
   "metadata": {},
   "outputs": [],
   "source": []
  }
 ],
 "metadata": {
  "kernelspec": {
   "display_name": "Python 3 (ipykernel)",
   "language": "python",
   "name": "python3"
  },
  "language_info": {
   "codemirror_mode": {
    "name": "ipython",
    "version": 3
   },
   "file_extension": ".py",
   "mimetype": "text/x-python",
   "name": "python",
   "nbconvert_exporter": "python",
   "pygments_lexer": "ipython3",
   "version": "3.11.5"
  },
  "varInspector": {
   "cols": {
    "lenName": 16,
    "lenType": 16,
    "lenVar": 40
   },
   "kernels_config": {
    "python": {
     "delete_cmd_postfix": "",
     "delete_cmd_prefix": "del ",
     "library": "var_list.py",
     "varRefreshCmd": "print(var_dic_list())"
    },
    "r": {
     "delete_cmd_postfix": ") ",
     "delete_cmd_prefix": "rm(",
     "library": "var_list.r",
     "varRefreshCmd": "cat(var_dic_list()) "
    }
   },
   "types_to_exclude": [
    "module",
    "function",
    "builtin_function_or_method",
    "instance",
    "_Feature"
   ],
   "window_display": false
  }
 },
 "nbformat": 4,
 "nbformat_minor": 5
}
